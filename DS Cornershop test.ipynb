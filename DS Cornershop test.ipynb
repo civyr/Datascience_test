{
 "cells": [
  {
   "cell_type": "markdown",
   "metadata": {},
   "source": [
    "<h1> Objetive </h1>"
   ]
  },
  {
   "cell_type": "markdown",
   "metadata": {},
   "source": [
    "<p> The objective is to predict the total_minutes a order takes to complete, where the rows not containing a total_minutes value should be set aside as a part of the submission file, containing the order_id with the predicted values.</p>\n",
    "    \n",
    "    \n",
    "   \n",
    "<p>As we are interested in seeing how you attacked the problem, we also ask you to include your code together with the submission file. The code needs to be well documented, explaining the decisions made. With these explanations, we will be looking at everything from how the data was processed, features used to the completed model and predictions. </p>"
   ]
  },
  {
   "cell_type": "markdown",
   "metadata": {},
   "source": [
    "<h1> 1. Libraries </h1>"
   ]
  },
  {
   "cell_type": "markdown",
   "metadata": {},
   "source": [
    "<p> Import libraries </p>"
   ]
  },
  {
   "cell_type": "code",
   "execution_count": 99,
   "metadata": {},
   "outputs": [],
   "source": [
    "%matplotlib inline\n",
    "import pandas as pd\n",
    "import numpy as np\n",
    "from math import sin, cos, sqrt, atan2, radians, asin\n",
    "import seaborn as sns\n",
    "import matplotlib.pyplot as plt\n",
    "from sklearn.preprocessing import StandardScaler\n",
    "from sklearn.model_selection import cross_val_score\n",
    "from sklearn.impute import SimpleImputer\n",
    "from sklearn.linear_model import LinearRegression\n",
    "from sklearn.ensemble import RandomForestRegressor\n",
    "import datetime\n",
    "from scipy import stats\n",
    "from sklearn.model_selection import train_test_split\n",
    "\n",
    "\n",
    "from sklearn.metrics import mean_absolute_error, mean_squared_error\n"
   ]
  },
  {
   "cell_type": "markdown",
   "metadata": {},
   "source": [
    "<h1> 2. Import Datasets </h1>"
   ]
  },
  {
   "cell_type": "markdown",
   "metadata": {},
   "source": [
    "<p> Esta sección se enfoca en cargar la data entregada, la cual viene en archivos CSV, la idea es poder generar un merge entre las distintas bases para obtener un dataset final consolidado. la variable por la cual deberían juntarse las tablas el order id. Además debemos agregar los atributos que serán las variables independientes que permitirán predecir los valores de tiempo esperado. En secciones posteriores se hará una depuración del dataset final.   </p>"
   ]
  },
  {
   "cell_type": "markdown",
   "metadata": {},
   "source": [
    "<h3> 2.1 Orders dataset </h3>"
   ]
  },
  {
   "cell_type": "code",
   "execution_count": 56,
   "metadata": {},
   "outputs": [
    {
     "data": {
      "text/html": [
       "<div>\n",
       "<style scoped>\n",
       "    .dataframe tbody tr th:only-of-type {\n",
       "        vertical-align: middle;\n",
       "    }\n",
       "\n",
       "    .dataframe tbody tr th {\n",
       "        vertical-align: top;\n",
       "    }\n",
       "\n",
       "    .dataframe thead th {\n",
       "        text-align: right;\n",
       "    }\n",
       "</style>\n",
       "<table border=\"1\" class=\"dataframe\">\n",
       "  <thead>\n",
       "    <tr style=\"text-align: right;\">\n",
       "      <th></th>\n",
       "      <th>order_id</th>\n",
       "      <th>lat</th>\n",
       "      <th>lng</th>\n",
       "      <th>promised_time</th>\n",
       "      <th>on_demand</th>\n",
       "      <th>shopper_id</th>\n",
       "      <th>store_branch_id</th>\n",
       "      <th>total_minutes</th>\n",
       "    </tr>\n",
       "  </thead>\n",
       "  <tbody>\n",
       "    <tr>\n",
       "      <th>0</th>\n",
       "      <td>e750294655c2c7c34d83cc3181c09de4</td>\n",
       "      <td>-33.501675</td>\n",
       "      <td>-70.579369</td>\n",
       "      <td>2019-10-18 20:48:00+00:00</td>\n",
       "      <td>True</td>\n",
       "      <td>e63bc83a1a952fa2b3cc9d558fb943cf</td>\n",
       "      <td>65ded5353c5ee48d0b7d48c591b8f430</td>\n",
       "      <td>67.684264</td>\n",
       "    </tr>\n",
       "    <tr>\n",
       "      <th>1</th>\n",
       "      <td>6581174846221cb6c467348e87f57641</td>\n",
       "      <td>-33.440584</td>\n",
       "      <td>-70.556283</td>\n",
       "      <td>2019-10-19 01:00:00+00:00</td>\n",
       "      <td>False</td>\n",
       "      <td>195f9e9d84a4ba9033c4b6a756334d8b</td>\n",
       "      <td>45fbc6d3e05ebd93369ce542e8f2322d</td>\n",
       "      <td>57.060632</td>\n",
       "    </tr>\n",
       "    <tr>\n",
       "      <th>2</th>\n",
       "      <td>3a226ea48debc0a7ae9950d5540f2f34</td>\n",
       "      <td>-32.987022</td>\n",
       "      <td>-71.544842</td>\n",
       "      <td>2019-10-19 14:54:00+00:00</td>\n",
       "      <td>True</td>\n",
       "      <td>a5b9ddc0d82e61582fca19ad43dbaacb</td>\n",
       "      <td>07563a3fe3bbe7e3ba84431ad9d055af</td>\n",
       "      <td>NaN</td>\n",
       "    </tr>\n",
       "    <tr>\n",
       "      <th>3</th>\n",
       "      <td>7d2ed03fe4966083e74b12694b1669d8</td>\n",
       "      <td>-33.328075</td>\n",
       "      <td>-70.512659</td>\n",
       "      <td>2019-10-18 21:47:00+00:00</td>\n",
       "      <td>True</td>\n",
       "      <td>d0b3f6bf7e249e5ebb8d3129341773a2</td>\n",
       "      <td>f1748d6b0fd9d439f71450117eba2725</td>\n",
       "      <td>52.067742</td>\n",
       "    </tr>\n",
       "    <tr>\n",
       "      <th>4</th>\n",
       "      <td>b4b2682d77118155fe4716300ccf7f39</td>\n",
       "      <td>-33.403239</td>\n",
       "      <td>-70.564020</td>\n",
       "      <td>2019-10-19 20:00:00+00:00</td>\n",
       "      <td>False</td>\n",
       "      <td>5c5199ce02f7b77caa9c2590a39ad27d</td>\n",
       "      <td>1f0e3dad99908345f7439f8ffabdffc4</td>\n",
       "      <td>140.724822</td>\n",
       "    </tr>\n",
       "  </tbody>\n",
       "</table>\n",
       "</div>"
      ],
      "text/plain": [
       "                           order_id        lat        lng  \\\n",
       "0  e750294655c2c7c34d83cc3181c09de4 -33.501675 -70.579369   \n",
       "1  6581174846221cb6c467348e87f57641 -33.440584 -70.556283   \n",
       "2  3a226ea48debc0a7ae9950d5540f2f34 -32.987022 -71.544842   \n",
       "3  7d2ed03fe4966083e74b12694b1669d8 -33.328075 -70.512659   \n",
       "4  b4b2682d77118155fe4716300ccf7f39 -33.403239 -70.564020   \n",
       "\n",
       "               promised_time  on_demand                        shopper_id  \\\n",
       "0  2019-10-18 20:48:00+00:00       True  e63bc83a1a952fa2b3cc9d558fb943cf   \n",
       "1  2019-10-19 01:00:00+00:00      False  195f9e9d84a4ba9033c4b6a756334d8b   \n",
       "2  2019-10-19 14:54:00+00:00       True  a5b9ddc0d82e61582fca19ad43dbaacb   \n",
       "3  2019-10-18 21:47:00+00:00       True  d0b3f6bf7e249e5ebb8d3129341773a2   \n",
       "4  2019-10-19 20:00:00+00:00      False  5c5199ce02f7b77caa9c2590a39ad27d   \n",
       "\n",
       "                    store_branch_id  total_minutes  \n",
       "0  65ded5353c5ee48d0b7d48c591b8f430      67.684264  \n",
       "1  45fbc6d3e05ebd93369ce542e8f2322d      57.060632  \n",
       "2  07563a3fe3bbe7e3ba84431ad9d055af            NaN  \n",
       "3  f1748d6b0fd9d439f71450117eba2725      52.067742  \n",
       "4  1f0e3dad99908345f7439f8ffabdffc4     140.724822  "
      ]
     },
     "execution_count": 56,
     "metadata": {},
     "output_type": "execute_result"
    }
   ],
   "source": [
    "# Load Orders\n",
    "order = pd.read_csv('data1/orders.csv', sep=',')\n",
    "order.head()"
   ]
  },
  {
   "cell_type": "code",
   "execution_count": 57,
   "metadata": {},
   "outputs": [
    {
     "name": "stdout",
     "output_type": "stream",
     "text": [
      "Cantidad de columnas:  8\n",
      "Cantidad de filas:  10000\n",
      "order_id            object\n",
      "lat                float64\n",
      "lng                float64\n",
      "promised_time       object\n",
      "on_demand             bool\n",
      "shopper_id          object\n",
      "store_branch_id     object\n",
      "total_minutes      float64\n",
      "dtype: object\n"
     ]
    }
   ],
   "source": [
    "\n",
    "print(\"Cantidad de columnas: \", order.shape[1])\n",
    "print(\"Cantidad de filas: \", order.shape[0])\n",
    "print(order.dtypes)"
   ]
  },
  {
   "cell_type": "markdown",
   "metadata": {},
   "source": [
    "<p> Podemos notar que la data tiene 8 atributos y 1000 datos o filas, que order_id, promised_time, shopper_id, store branch_id son objetos, mientras que el resto de columnas son números  </p>"
   ]
  },
  {
   "cell_type": "code",
   "execution_count": 58,
   "metadata": {},
   "outputs": [
    {
     "data": {
      "text/plain": [
       "order_id           False\n",
       "lat                False\n",
       "lng                False\n",
       "promised_time      False\n",
       "on_demand          False\n",
       "shopper_id         False\n",
       "store_branch_id    False\n",
       "total_minutes       True\n",
       "dtype: bool"
      ]
     },
     "execution_count": 58,
     "metadata": {},
     "output_type": "execute_result"
    }
   ],
   "source": [
    "# Checking for missing values\n",
    "order.isnull().any()"
   ]
  },
  {
   "cell_type": "markdown",
   "metadata": {},
   "source": [
    "<p> Vemos que la columna a predecir, total_minutes es la única columna que presenta missing values. Hay 2.000 filas con total_minutes sin valor.  </p>"
   ]
  },
  {
   "cell_type": "code",
   "execution_count": 59,
   "metadata": {},
   "outputs": [
    {
     "data": {
      "text/plain": [
       "2000"
      ]
     },
     "execution_count": 59,
     "metadata": {},
     "output_type": "execute_result"
    }
   ],
   "source": [
    "# Sum missing values total time\n",
    "order.total_minutes.isnull().sum()"
   ]
  },
  {
   "cell_type": "code",
   "execution_count": 60,
   "metadata": {},
   "outputs": [
    {
     "data": {
      "text/plain": [
       "count    8000.000000\n",
       "mean       81.106130\n",
       "std        34.720837\n",
       "min        11.969489\n",
       "25%        55.225480\n",
       "50%        74.731672\n",
       "75%       100.273498\n",
       "max       304.190303\n",
       "Name: total_minutes, dtype: float64"
      ]
     },
     "execution_count": 60,
     "metadata": {},
     "output_type": "execute_result"
    }
   ],
   "source": [
    "order.total_minutes.describe()"
   ]
  },
  {
   "cell_type": "markdown",
   "metadata": {},
   "source": [
    "<p> Se aprecia que los valores de la variable a predecir, total_minutes varían entre 12 y 304 minutos, con una median de 74 minutos y un promedio de 81 minutos   </p>"
   ]
  },
  {
   "cell_type": "markdown",
   "metadata": {},
   "source": [
    "<h3> 2.2 Shoppers </h3>"
   ]
  },
  {
   "cell_type": "code",
   "execution_count": 61,
   "metadata": {},
   "outputs": [
    {
     "data": {
      "text/html": [
       "<div>\n",
       "<style scoped>\n",
       "    .dataframe tbody tr th:only-of-type {\n",
       "        vertical-align: middle;\n",
       "    }\n",
       "\n",
       "    .dataframe tbody tr th {\n",
       "        vertical-align: top;\n",
       "    }\n",
       "\n",
       "    .dataframe thead th {\n",
       "        text-align: right;\n",
       "    }\n",
       "</style>\n",
       "<table border=\"1\" class=\"dataframe\">\n",
       "  <thead>\n",
       "    <tr style=\"text-align: right;\">\n",
       "      <th></th>\n",
       "      <th>shopper_id</th>\n",
       "      <th>seniority</th>\n",
       "      <th>found_rate</th>\n",
       "      <th>picking_speed</th>\n",
       "      <th>accepted_rate</th>\n",
       "      <th>rating</th>\n",
       "    </tr>\n",
       "  </thead>\n",
       "  <tbody>\n",
       "    <tr>\n",
       "      <th>0</th>\n",
       "      <td>1fc20b0bdf697ac13dd6a15cbd2fe60a</td>\n",
       "      <td>41dc7c9e385c4d2b6c1f7836973951bf</td>\n",
       "      <td>0.8606</td>\n",
       "      <td>1.94</td>\n",
       "      <td>1.00</td>\n",
       "      <td>4.87</td>\n",
       "    </tr>\n",
       "    <tr>\n",
       "      <th>1</th>\n",
       "      <td>e1c679ac73a69c01981fdd3c5ab8beda</td>\n",
       "      <td>6c90661e6d2c7579f5ce337c3391dbb9</td>\n",
       "      <td>0.8446</td>\n",
       "      <td>1.23</td>\n",
       "      <td>0.92</td>\n",
       "      <td>4.92</td>\n",
       "    </tr>\n",
       "    <tr>\n",
       "      <th>2</th>\n",
       "      <td>09d369c66ca86ebeffacb133410c5ee1</td>\n",
       "      <td>6c90661e6d2c7579f5ce337c3391dbb9</td>\n",
       "      <td>0.8559</td>\n",
       "      <td>1.56</td>\n",
       "      <td>1.00</td>\n",
       "      <td>4.88</td>\n",
       "    </tr>\n",
       "    <tr>\n",
       "      <th>3</th>\n",
       "      <td>db39866e62b95bb04ebb1e470f2d1347</td>\n",
       "      <td>50e13ee63f086c2fe84229348bc91b5b</td>\n",
       "      <td>NaN</td>\n",
       "      <td>2.41</td>\n",
       "      <td>NaN</td>\n",
       "      <td>NaN</td>\n",
       "    </tr>\n",
       "    <tr>\n",
       "      <th>4</th>\n",
       "      <td>8efbc238660053b19f00ca431144fdae</td>\n",
       "      <td>6c90661e6d2c7579f5ce337c3391dbb9</td>\n",
       "      <td>0.8770</td>\n",
       "      <td>1.31</td>\n",
       "      <td>0.92</td>\n",
       "      <td>4.88</td>\n",
       "    </tr>\n",
       "  </tbody>\n",
       "</table>\n",
       "</div>"
      ],
      "text/plain": [
       "                         shopper_id                         seniority  \\\n",
       "0  1fc20b0bdf697ac13dd6a15cbd2fe60a  41dc7c9e385c4d2b6c1f7836973951bf   \n",
       "1  e1c679ac73a69c01981fdd3c5ab8beda  6c90661e6d2c7579f5ce337c3391dbb9   \n",
       "2  09d369c66ca86ebeffacb133410c5ee1  6c90661e6d2c7579f5ce337c3391dbb9   \n",
       "3  db39866e62b95bb04ebb1e470f2d1347  50e13ee63f086c2fe84229348bc91b5b   \n",
       "4  8efbc238660053b19f00ca431144fdae  6c90661e6d2c7579f5ce337c3391dbb9   \n",
       "\n",
       "   found_rate  picking_speed  accepted_rate  rating  \n",
       "0      0.8606           1.94           1.00    4.87  \n",
       "1      0.8446           1.23           0.92    4.92  \n",
       "2      0.8559           1.56           1.00    4.88  \n",
       "3         NaN           2.41            NaN     NaN  \n",
       "4      0.8770           1.31           0.92    4.88  "
      ]
     },
     "execution_count": 61,
     "metadata": {},
     "output_type": "execute_result"
    }
   ],
   "source": [
    "# Import shoppers dataset\n",
    "shoppers = pd.read_csv('data1/shoppers.csv', sep=',')\n",
    "shoppers.head()"
   ]
  },
  {
   "cell_type": "code",
   "execution_count": 62,
   "metadata": {},
   "outputs": [
    {
     "name": "stdout",
     "output_type": "stream",
     "text": [
      "Cantidad de columnas:  6\n",
      "Cantidad de filas:  2864\n",
      "shopper_id        object\n",
      "seniority         object\n",
      "found_rate       float64\n",
      "picking_speed    float64\n",
      "accepted_rate    float64\n",
      "rating           float64\n",
      "dtype: object\n"
     ]
    }
   ],
   "source": [
    "print(\"Cantidad de columnas: \", shoppers.shape[1])\n",
    "print(\"Cantidad de filas: \", shoppers.shape[0])\n",
    "print(shoppers.dtypes)"
   ]
  },
  {
   "cell_type": "markdown",
   "metadata": {},
   "source": [
    "<p> Este dataset tiene 6 atributos y 2864 filas o datos. Las variables seniority y shopper id son objetos, mientras que el resto son números. Además, podemos notar que hay 3 atributos asociados al shoppers que presentan missing values como lo son found rate, picking speed y accepted rate    </p>"
   ]
  },
  {
   "cell_type": "code",
   "execution_count": 63,
   "metadata": {},
   "outputs": [
    {
     "name": "stdout",
     "output_type": "stream",
     "text": [
      "shopper_id       False\n",
      "seniority        False\n",
      "found_rate        True\n",
      "picking_speed    False\n",
      "accepted_rate     True\n",
      "rating            True\n",
      "dtype: bool\n",
      "Los missing values de found rate son:  101\n",
      "Los missing values de acepted rate son:  27\n",
      "Los missing values de rating son:  84\n"
     ]
    }
   ],
   "source": [
    "# Checking for missing values\n",
    "\n",
    "print(shoppers.isnull().any())\n",
    "print(\"Los missing values de found rate son: \",shoppers.found_rate.isnull().sum())\n",
    "print(\"Los missing values de acepted rate son: \",shoppers.accepted_rate.isnull().sum())\n",
    "print(\"Los missing values de rating son: \",shoppers.rating.isnull().sum())\n"
   ]
  },
  {
   "cell_type": "markdown",
   "metadata": {},
   "source": [
    "<h3> 2.3 Order Products </h3>"
   ]
  },
  {
   "cell_type": "code",
   "execution_count": 64,
   "metadata": {},
   "outputs": [
    {
     "data": {
      "text/html": [
       "<div>\n",
       "<style scoped>\n",
       "    .dataframe tbody tr th:only-of-type {\n",
       "        vertical-align: middle;\n",
       "    }\n",
       "\n",
       "    .dataframe tbody tr th {\n",
       "        vertical-align: top;\n",
       "    }\n",
       "\n",
       "    .dataframe thead th {\n",
       "        text-align: right;\n",
       "    }\n",
       "</style>\n",
       "<table border=\"1\" class=\"dataframe\">\n",
       "  <thead>\n",
       "    <tr style=\"text-align: right;\">\n",
       "      <th></th>\n",
       "      <th>order_id</th>\n",
       "      <th>product_id</th>\n",
       "      <th>quantity</th>\n",
       "      <th>buy_unit</th>\n",
       "    </tr>\n",
       "  </thead>\n",
       "  <tbody>\n",
       "    <tr>\n",
       "      <th>0</th>\n",
       "      <td>47099653730fb1b76537fc10ad876255</td>\n",
       "      <td>c1244453d731c77416cb4766e3bd76cb</td>\n",
       "      <td>1.0</td>\n",
       "      <td>UN</td>\n",
       "    </tr>\n",
       "    <tr>\n",
       "      <th>1</th>\n",
       "      <td>689d8866915acf87e851c2591a23a82f</td>\n",
       "      <td>43cc2b100bec640fe563cd16f2db669f</td>\n",
       "      <td>1.0</td>\n",
       "      <td>KG</td>\n",
       "    </tr>\n",
       "    <tr>\n",
       "      <th>2</th>\n",
       "      <td>f26d16bf6f38c9e31d0be877f4013a9e</td>\n",
       "      <td>b8f880759d014134e272d881d49989a2</td>\n",
       "      <td>1.0</td>\n",
       "      <td>UN</td>\n",
       "    </tr>\n",
       "    <tr>\n",
       "      <th>3</th>\n",
       "      <td>161ccc896835ab41761b0e726becb6b1</td>\n",
       "      <td>dbc062b9bef805d27a6f4bea7edfe1f1</td>\n",
       "      <td>1.0</td>\n",
       "      <td>UN</td>\n",
       "    </tr>\n",
       "    <tr>\n",
       "      <th>4</th>\n",
       "      <td>4713deca10bb5db98fae150b52d61fc0</td>\n",
       "      <td>93a060f269bb569398921100f84c519a</td>\n",
       "      <td>2.0</td>\n",
       "      <td>UN</td>\n",
       "    </tr>\n",
       "  </tbody>\n",
       "</table>\n",
       "</div>"
      ],
      "text/plain": [
       "                           order_id                        product_id  \\\n",
       "0  47099653730fb1b76537fc10ad876255  c1244453d731c77416cb4766e3bd76cb   \n",
       "1  689d8866915acf87e851c2591a23a82f  43cc2b100bec640fe563cd16f2db669f   \n",
       "2  f26d16bf6f38c9e31d0be877f4013a9e  b8f880759d014134e272d881d49989a2   \n",
       "3  161ccc896835ab41761b0e726becb6b1  dbc062b9bef805d27a6f4bea7edfe1f1   \n",
       "4  4713deca10bb5db98fae150b52d61fc0  93a060f269bb569398921100f84c519a   \n",
       "\n",
       "   quantity buy_unit  \n",
       "0       1.0       UN  \n",
       "1       1.0       KG  \n",
       "2       1.0       UN  \n",
       "3       1.0       UN  \n",
       "4       2.0       UN  "
      ]
     },
     "execution_count": 64,
     "metadata": {},
     "output_type": "execute_result"
    }
   ],
   "source": [
    "# Load dataset order products\n",
    "order_products = pd.read_csv('data1/order_products.csv', sep=',')\n",
    "order_products.head()"
   ]
  },
  {
   "cell_type": "code",
   "execution_count": 65,
   "metadata": {},
   "outputs": [
    {
     "name": "stdout",
     "output_type": "stream",
     "text": [
      "Cantidad de columnas:  4\n",
      "Cantidad de filas:  198500\n",
      "order_id       object\n",
      "product_id     object\n",
      "quantity      float64\n",
      "buy_unit       object\n",
      "dtype: object\n"
     ]
    }
   ],
   "source": [
    "print(\"Cantidad de columnas: \", order_products.shape[1])\n",
    "print(\"Cantidad de filas: \", order_products.shape[0])\n",
    "print(order_products.dtypes)"
   ]
  },
  {
   "cell_type": "code",
   "execution_count": 66,
   "metadata": {},
   "outputs": [
    {
     "name": "stdout",
     "output_type": "stream",
     "text": [
      "order_id      False\n",
      "product_id    False\n",
      "quantity      False\n",
      "buy_unit      False\n",
      "dtype: bool\n"
     ]
    }
   ],
   "source": [
    "print (order_products.isnull().any())"
   ]
  },
  {
   "cell_type": "markdown",
   "metadata": {},
   "source": [
    "<p> En este dataset no se aprecian missing values. Posee solo 4 atributos  de los cuales solos quantity es un número mientras que el resto son objetos. Para poder utilizar de forma correcta esta data es necesario estandarizar o normalizar la data para que a pesar de que en la orden tenga productos que deben pesarse y sean una fracción de un kg se puedan operar y sumar con los productos que no deben ser pesados. Es por esto que crearemos una columna llamada total_products.    </p>"
   ]
  },
  {
   "cell_type": "code",
   "execution_count": 67,
   "metadata": {},
   "outputs": [],
   "source": [
    "# Creating dummy variable according A buy_unit\n",
    "order_products['to_weigh'] = np.where(order_products['buy_unit'] == 'KG', 1, 0)\n",
    "order_products['no_weigh'] = np.where(order_products['buy_unit'] == 'UN', order_products['quantity'], 0)\n",
    "\n",
    "# Aggreate operation by variable \"order_id\"\n",
    "order_products = order_products.groupby('order_id').sum().reset_index()\n",
    "\n",
    "# Generate new column total_products\n",
    "order_products['total_products'] = order_products['to_weigh'] + order_products['no_weigh']\n",
    "\n",
    "# Aggregate data\n",
    "order_products = order_products.groupby('order_id').sum()\n",
    "\n",
    "# Delete column because it is no longer necessary\n",
    "order_products = order_products.drop(columns=['quantity'])"
   ]
  },
  {
   "cell_type": "code",
   "execution_count": 68,
   "metadata": {},
   "outputs": [
    {
     "data": {
      "text/html": [
       "<div>\n",
       "<style scoped>\n",
       "    .dataframe tbody tr th:only-of-type {\n",
       "        vertical-align: middle;\n",
       "    }\n",
       "\n",
       "    .dataframe tbody tr th {\n",
       "        vertical-align: top;\n",
       "    }\n",
       "\n",
       "    .dataframe thead th {\n",
       "        text-align: right;\n",
       "    }\n",
       "</style>\n",
       "<table border=\"1\" class=\"dataframe\">\n",
       "  <thead>\n",
       "    <tr style=\"text-align: right;\">\n",
       "      <th></th>\n",
       "      <th>to_weigh</th>\n",
       "      <th>no_weigh</th>\n",
       "      <th>total_products</th>\n",
       "    </tr>\n",
       "    <tr>\n",
       "      <th>order_id</th>\n",
       "      <th></th>\n",
       "      <th></th>\n",
       "      <th></th>\n",
       "    </tr>\n",
       "  </thead>\n",
       "  <tbody>\n",
       "    <tr>\n",
       "      <th>0004a3841c1eeb6c6e77585a941c21e0</th>\n",
       "      <td>0</td>\n",
       "      <td>8.0</td>\n",
       "      <td>8.0</td>\n",
       "    </tr>\n",
       "    <tr>\n",
       "      <th>0005a6ecbbde1e8d273f5577bcff2c9c</th>\n",
       "      <td>0</td>\n",
       "      <td>2.0</td>\n",
       "      <td>2.0</td>\n",
       "    </tr>\n",
       "    <tr>\n",
       "      <th>0007baeb6700fc203be2d1f1e11222d7</th>\n",
       "      <td>0</td>\n",
       "      <td>39.0</td>\n",
       "      <td>39.0</td>\n",
       "    </tr>\n",
       "    <tr>\n",
       "      <th>0012195a6a8ca9ec308a3010eeea8ebc</th>\n",
       "      <td>0</td>\n",
       "      <td>13.0</td>\n",
       "      <td>13.0</td>\n",
       "    </tr>\n",
       "    <tr>\n",
       "      <th>0013011fa72b498b9feb84f4e7104980</th>\n",
       "      <td>2</td>\n",
       "      <td>63.0</td>\n",
       "      <td>65.0</td>\n",
       "    </tr>\n",
       "  </tbody>\n",
       "</table>\n",
       "</div>"
      ],
      "text/plain": [
       "                                  to_weigh  no_weigh  total_products\n",
       "order_id                                                            \n",
       "0004a3841c1eeb6c6e77585a941c21e0         0       8.0             8.0\n",
       "0005a6ecbbde1e8d273f5577bcff2c9c         0       2.0             2.0\n",
       "0007baeb6700fc203be2d1f1e11222d7         0      39.0            39.0\n",
       "0012195a6a8ca9ec308a3010eeea8ebc         0      13.0            13.0\n",
       "0013011fa72b498b9feb84f4e7104980         2      63.0            65.0"
      ]
     },
     "execution_count": 68,
     "metadata": {},
     "output_type": "execute_result"
    }
   ],
   "source": [
    "order_products.head()"
   ]
  },
  {
   "cell_type": "markdown",
   "metadata": {},
   "source": [
    "<p> Podemos notar que la data queda utilizable, ya no hay números decimales, es decir, no puedes comprar 1.3 productos, entonces si por ejemplo en la orden estaba la compra del producto de 3.8 kgs de manzana aparecerá como solo un producto en la data.    </p>"
   ]
  },
  {
   "cell_type": "markdown",
   "metadata": {},
   "source": [
    "<h3> 2.4 Branch Data </h3>"
   ]
  },
  {
   "cell_type": "code",
   "execution_count": 69,
   "metadata": {},
   "outputs": [
    {
     "data": {
      "text/html": [
       "<div>\n",
       "<style scoped>\n",
       "    .dataframe tbody tr th:only-of-type {\n",
       "        vertical-align: middle;\n",
       "    }\n",
       "\n",
       "    .dataframe tbody tr th {\n",
       "        vertical-align: top;\n",
       "    }\n",
       "\n",
       "    .dataframe thead th {\n",
       "        text-align: right;\n",
       "    }\n",
       "</style>\n",
       "<table border=\"1\" class=\"dataframe\">\n",
       "  <thead>\n",
       "    <tr style=\"text-align: right;\">\n",
       "      <th></th>\n",
       "      <th>store_branch_id</th>\n",
       "      <th>store_id</th>\n",
       "      <th>lat</th>\n",
       "      <th>lng</th>\n",
       "    </tr>\n",
       "  </thead>\n",
       "  <tbody>\n",
       "    <tr>\n",
       "      <th>0</th>\n",
       "      <td>aff1621254f7c1be92f64550478c56e6</td>\n",
       "      <td>92cc227532d17e56e07902b254dfad10</td>\n",
       "      <td>-33.422497</td>\n",
       "      <td>-70.609231</td>\n",
       "    </tr>\n",
       "    <tr>\n",
       "      <th>1</th>\n",
       "      <td>56352739f59643540a3a6e16985f62c7</td>\n",
       "      <td>0336dcbab05b9d5ad24f4333c7658a0e</td>\n",
       "      <td>-33.385484</td>\n",
       "      <td>-70.555579</td>\n",
       "    </tr>\n",
       "    <tr>\n",
       "      <th>2</th>\n",
       "      <td>7d04bbbe5494ae9d2f5a76aa1c00fa2f</td>\n",
       "      <td>9bf31c7ff062936a96d3c8bd1f8f2ff3</td>\n",
       "      <td>-33.416579</td>\n",
       "      <td>-70.565224</td>\n",
       "    </tr>\n",
       "    <tr>\n",
       "      <th>3</th>\n",
       "      <td>2b24d495052a8ce66358eb576b8912c8</td>\n",
       "      <td>c4ca4238a0b923820dcc509a6f75849b</td>\n",
       "      <td>-33.512578</td>\n",
       "      <td>-70.655952</td>\n",
       "    </tr>\n",
       "    <tr>\n",
       "      <th>4</th>\n",
       "      <td>5487315b1286f907165907aa8fc96619</td>\n",
       "      <td>d82c8d1619ad8176d665453cfb2e55f0</td>\n",
       "      <td>-33.347645</td>\n",
       "      <td>-70.542229</td>\n",
       "    </tr>\n",
       "  </tbody>\n",
       "</table>\n",
       "</div>"
      ],
      "text/plain": [
       "                    store_branch_id                          store_id  \\\n",
       "0  aff1621254f7c1be92f64550478c56e6  92cc227532d17e56e07902b254dfad10   \n",
       "1  56352739f59643540a3a6e16985f62c7  0336dcbab05b9d5ad24f4333c7658a0e   \n",
       "2  7d04bbbe5494ae9d2f5a76aa1c00fa2f  9bf31c7ff062936a96d3c8bd1f8f2ff3   \n",
       "3  2b24d495052a8ce66358eb576b8912c8  c4ca4238a0b923820dcc509a6f75849b   \n",
       "4  5487315b1286f907165907aa8fc96619  d82c8d1619ad8176d665453cfb2e55f0   \n",
       "\n",
       "         lat        lng  \n",
       "0 -33.422497 -70.609231  \n",
       "1 -33.385484 -70.555579  \n",
       "2 -33.416579 -70.565224  \n",
       "3 -33.512578 -70.655952  \n",
       "4 -33.347645 -70.542229  "
      ]
     },
     "execution_count": 69,
     "metadata": {},
     "output_type": "execute_result"
    }
   ],
   "source": [
    "#Import branch dataset\n",
    "branch = pd.read_csv('data1/storebranch.csv', sep=',')\n",
    "branch.head()"
   ]
  },
  {
   "cell_type": "code",
   "execution_count": 70,
   "metadata": {},
   "outputs": [
    {
     "data": {
      "text/plain": [
       "store_branch_id    False\n",
       "store_id           False\n",
       "lat                False\n",
       "lng                False\n",
       "dtype: bool"
      ]
     },
     "execution_count": 70,
     "metadata": {},
     "output_type": "execute_result"
    }
   ],
   "source": [
    "branch.isnull().any()"
   ]
  },
  {
   "cell_type": "code",
   "execution_count": 71,
   "metadata": {},
   "outputs": [],
   "source": [
    "# Replace column names to avoid confusion with lat and long of orders\n",
    "\n",
    "branch.rename(columns=({'lat':'branch_lat', 'lng':'branch_lng'}), inplace=True)"
   ]
  },
  {
   "cell_type": "markdown",
   "metadata": {},
   "source": [
    "<p> En esta data no se observan missing values, sin embargo es necesario cambiar el nombre de dos columnas para no confundirse con la notación de lat y long de la tabla orders.   </p>"
   ]
  },
  {
   "cell_type": "markdown",
   "metadata": {},
   "source": [
    "<h3> 2.5 Consolidation Data </h3>"
   ]
  },
  {
   "cell_type": "markdown",
   "metadata": {},
   "source": [
    "<p> Para poder consolidar la data se comenzará con el orders dataset y desde ahí se irán agregando el reto de la tabla según atributos claves. En primer lugar se hará el merge entre tabla orders y order products utilizando el atributo order_id. Luego se hará el merge de esta tabla con la tabla shopper, utilizando el atributo shopper id, que nos indicará que shopper fue el que hizo cada orden. Finalmente, se realizará el cruce entre la tabla que se tiene hasta el momento y la tabla branch, para esto se utilizará el atributo branch id, que nos permite obtener en que branch se realiza cada order.    </p>"
   ]
  },
  {
   "cell_type": "code",
   "execution_count": 72,
   "metadata": {},
   "outputs": [],
   "source": [
    "# Merge between orders and order products\n",
    "df = pd.merge(order, order_products, on='order_id')\n",
    "\n",
    "# Merge with shoppers data\n",
    "df = pd.merge(df, shoppers, on='shopper_id')\n",
    "\n",
    "# Merge with branch data\n",
    "df = pd.merge(df, branch,on='store_branch_id')"
   ]
  },
  {
   "cell_type": "code",
   "execution_count": 73,
   "metadata": {},
   "outputs": [
    {
     "data": {
      "text/html": [
       "<div>\n",
       "<style scoped>\n",
       "    .dataframe tbody tr th:only-of-type {\n",
       "        vertical-align: middle;\n",
       "    }\n",
       "\n",
       "    .dataframe tbody tr th {\n",
       "        vertical-align: top;\n",
       "    }\n",
       "\n",
       "    .dataframe thead th {\n",
       "        text-align: right;\n",
       "    }\n",
       "</style>\n",
       "<table border=\"1\" class=\"dataframe\">\n",
       "  <thead>\n",
       "    <tr style=\"text-align: right;\">\n",
       "      <th></th>\n",
       "      <th>order_id</th>\n",
       "      <th>lat</th>\n",
       "      <th>lng</th>\n",
       "      <th>promised_time</th>\n",
       "      <th>on_demand</th>\n",
       "      <th>shopper_id</th>\n",
       "      <th>store_branch_id</th>\n",
       "      <th>total_minutes</th>\n",
       "      <th>to_weigh</th>\n",
       "      <th>no_weigh</th>\n",
       "      <th>total_products</th>\n",
       "      <th>seniority</th>\n",
       "      <th>found_rate</th>\n",
       "      <th>picking_speed</th>\n",
       "      <th>accepted_rate</th>\n",
       "      <th>rating</th>\n",
       "      <th>store_id</th>\n",
       "      <th>branch_lat</th>\n",
       "      <th>branch_lng</th>\n",
       "    </tr>\n",
       "  </thead>\n",
       "  <tbody>\n",
       "    <tr>\n",
       "      <th>0</th>\n",
       "      <td>e750294655c2c7c34d83cc3181c09de4</td>\n",
       "      <td>-33.501675</td>\n",
       "      <td>-70.579369</td>\n",
       "      <td>2019-10-18 20:48:00+00:00</td>\n",
       "      <td>True</td>\n",
       "      <td>e63bc83a1a952fa2b3cc9d558fb943cf</td>\n",
       "      <td>65ded5353c5ee48d0b7d48c591b8f430</td>\n",
       "      <td>67.684264</td>\n",
       "      <td>4</td>\n",
       "      <td>16.0</td>\n",
       "      <td>20.0</td>\n",
       "      <td>6c90661e6d2c7579f5ce337c3391dbb9</td>\n",
       "      <td>0.9024</td>\n",
       "      <td>1.30</td>\n",
       "      <td>0.92</td>\n",
       "      <td>4.76</td>\n",
       "      <td>c4ca4238a0b923820dcc509a6f75849b</td>\n",
       "      <td>-33.48528</td>\n",
       "      <td>-70.57925</td>\n",
       "    </tr>\n",
       "    <tr>\n",
       "      <th>1</th>\n",
       "      <td>3bb5d9adb3ecac1925b60d5d26a510c4</td>\n",
       "      <td>-33.491167</td>\n",
       "      <td>-70.571649</td>\n",
       "      <td>2019-10-19 16:57:00+00:00</td>\n",
       "      <td>True</td>\n",
       "      <td>e63bc83a1a952fa2b3cc9d558fb943cf</td>\n",
       "      <td>65ded5353c5ee48d0b7d48c591b8f430</td>\n",
       "      <td>160.336211</td>\n",
       "      <td>4</td>\n",
       "      <td>63.0</td>\n",
       "      <td>67.0</td>\n",
       "      <td>6c90661e6d2c7579f5ce337c3391dbb9</td>\n",
       "      <td>0.9024</td>\n",
       "      <td>1.30</td>\n",
       "      <td>0.92</td>\n",
       "      <td>4.76</td>\n",
       "      <td>c4ca4238a0b923820dcc509a6f75849b</td>\n",
       "      <td>-33.48528</td>\n",
       "      <td>-70.57925</td>\n",
       "    </tr>\n",
       "    <tr>\n",
       "      <th>2</th>\n",
       "      <td>b838eea64cf24dde0a78ce1feb84ca7c</td>\n",
       "      <td>-33.493406</td>\n",
       "      <td>-70.594164</td>\n",
       "      <td>2019-10-19 16:00:00+00:00</td>\n",
       "      <td>False</td>\n",
       "      <td>cb5ef07d15fb3981eeb6e0011bc80163</td>\n",
       "      <td>65ded5353c5ee48d0b7d48c591b8f430</td>\n",
       "      <td>122.239210</td>\n",
       "      <td>1</td>\n",
       "      <td>155.0</td>\n",
       "      <td>156.0</td>\n",
       "      <td>6c90661e6d2c7579f5ce337c3391dbb9</td>\n",
       "      <td>0.8909</td>\n",
       "      <td>1.17</td>\n",
       "      <td>0.96</td>\n",
       "      <td>5.00</td>\n",
       "      <td>c4ca4238a0b923820dcc509a6f75849b</td>\n",
       "      <td>-33.48528</td>\n",
       "      <td>-70.57925</td>\n",
       "    </tr>\n",
       "    <tr>\n",
       "      <th>3</th>\n",
       "      <td>2c85303190a77493348b0b827232f4d6</td>\n",
       "      <td>-33.487836</td>\n",
       "      <td>-70.572412</td>\n",
       "      <td>2019-10-19 19:00:00+00:00</td>\n",
       "      <td>False</td>\n",
       "      <td>ca54a789a8dc54742710490e25df9844</td>\n",
       "      <td>65ded5353c5ee48d0b7d48c591b8f430</td>\n",
       "      <td>133.113926</td>\n",
       "      <td>8</td>\n",
       "      <td>115.0</td>\n",
       "      <td>123.0</td>\n",
       "      <td>6c90661e6d2c7579f5ce337c3391dbb9</td>\n",
       "      <td>0.8462</td>\n",
       "      <td>1.11</td>\n",
       "      <td>0.96</td>\n",
       "      <td>4.96</td>\n",
       "      <td>c4ca4238a0b923820dcc509a6f75849b</td>\n",
       "      <td>-33.48528</td>\n",
       "      <td>-70.57925</td>\n",
       "    </tr>\n",
       "    <tr>\n",
       "      <th>4</th>\n",
       "      <td>e606cc26b843c312df82a29d1f8d4372</td>\n",
       "      <td>-33.504759</td>\n",
       "      <td>-70.552168</td>\n",
       "      <td>2019-10-19 00:00:00+00:00</td>\n",
       "      <td>False</td>\n",
       "      <td>362e274d254be8fae76396b8f10a7fd5</td>\n",
       "      <td>65ded5353c5ee48d0b7d48c591b8f430</td>\n",
       "      <td>94.734479</td>\n",
       "      <td>3</td>\n",
       "      <td>97.0</td>\n",
       "      <td>100.0</td>\n",
       "      <td>50e13ee63f086c2fe84229348bc91b5b</td>\n",
       "      <td>0.8138</td>\n",
       "      <td>1.89</td>\n",
       "      <td>0.84</td>\n",
       "      <td>4.68</td>\n",
       "      <td>c4ca4238a0b923820dcc509a6f75849b</td>\n",
       "      <td>-33.48528</td>\n",
       "      <td>-70.57925</td>\n",
       "    </tr>\n",
       "  </tbody>\n",
       "</table>\n",
       "</div>"
      ],
      "text/plain": [
       "                           order_id        lat        lng  \\\n",
       "0  e750294655c2c7c34d83cc3181c09de4 -33.501675 -70.579369   \n",
       "1  3bb5d9adb3ecac1925b60d5d26a510c4 -33.491167 -70.571649   \n",
       "2  b838eea64cf24dde0a78ce1feb84ca7c -33.493406 -70.594164   \n",
       "3  2c85303190a77493348b0b827232f4d6 -33.487836 -70.572412   \n",
       "4  e606cc26b843c312df82a29d1f8d4372 -33.504759 -70.552168   \n",
       "\n",
       "               promised_time  on_demand                        shopper_id  \\\n",
       "0  2019-10-18 20:48:00+00:00       True  e63bc83a1a952fa2b3cc9d558fb943cf   \n",
       "1  2019-10-19 16:57:00+00:00       True  e63bc83a1a952fa2b3cc9d558fb943cf   \n",
       "2  2019-10-19 16:00:00+00:00      False  cb5ef07d15fb3981eeb6e0011bc80163   \n",
       "3  2019-10-19 19:00:00+00:00      False  ca54a789a8dc54742710490e25df9844   \n",
       "4  2019-10-19 00:00:00+00:00      False  362e274d254be8fae76396b8f10a7fd5   \n",
       "\n",
       "                    store_branch_id  total_minutes  to_weigh  no_weigh  \\\n",
       "0  65ded5353c5ee48d0b7d48c591b8f430      67.684264         4      16.0   \n",
       "1  65ded5353c5ee48d0b7d48c591b8f430     160.336211         4      63.0   \n",
       "2  65ded5353c5ee48d0b7d48c591b8f430     122.239210         1     155.0   \n",
       "3  65ded5353c5ee48d0b7d48c591b8f430     133.113926         8     115.0   \n",
       "4  65ded5353c5ee48d0b7d48c591b8f430      94.734479         3      97.0   \n",
       "\n",
       "   total_products                         seniority  found_rate  \\\n",
       "0            20.0  6c90661e6d2c7579f5ce337c3391dbb9      0.9024   \n",
       "1            67.0  6c90661e6d2c7579f5ce337c3391dbb9      0.9024   \n",
       "2           156.0  6c90661e6d2c7579f5ce337c3391dbb9      0.8909   \n",
       "3           123.0  6c90661e6d2c7579f5ce337c3391dbb9      0.8462   \n",
       "4           100.0  50e13ee63f086c2fe84229348bc91b5b      0.8138   \n",
       "\n",
       "   picking_speed  accepted_rate  rating                          store_id  \\\n",
       "0           1.30           0.92    4.76  c4ca4238a0b923820dcc509a6f75849b   \n",
       "1           1.30           0.92    4.76  c4ca4238a0b923820dcc509a6f75849b   \n",
       "2           1.17           0.96    5.00  c4ca4238a0b923820dcc509a6f75849b   \n",
       "3           1.11           0.96    4.96  c4ca4238a0b923820dcc509a6f75849b   \n",
       "4           1.89           0.84    4.68  c4ca4238a0b923820dcc509a6f75849b   \n",
       "\n",
       "   branch_lat  branch_lng  \n",
       "0   -33.48528   -70.57925  \n",
       "1   -33.48528   -70.57925  \n",
       "2   -33.48528   -70.57925  \n",
       "3   -33.48528   -70.57925  \n",
       "4   -33.48528   -70.57925  "
      ]
     },
     "execution_count": 73,
     "metadata": {},
     "output_type": "execute_result"
    }
   ],
   "source": [
    "# Dataset Consolidated\n",
    "df.head()"
   ]
  },
  {
   "cell_type": "code",
   "execution_count": 74,
   "metadata": {},
   "outputs": [
    {
     "data": {
      "text/plain": [
       "order_id           False\n",
       "lat                False\n",
       "lng                False\n",
       "promised_time      False\n",
       "on_demand          False\n",
       "shopper_id         False\n",
       "store_branch_id    False\n",
       "total_minutes       True\n",
       "to_weigh           False\n",
       "no_weigh           False\n",
       "total_products     False\n",
       "seniority          False\n",
       "found_rate          True\n",
       "picking_speed      False\n",
       "accepted_rate       True\n",
       "rating              True\n",
       "store_id           False\n",
       "branch_lat         False\n",
       "branch_lng         False\n",
       "dtype: bool"
      ]
     },
     "execution_count": 74,
     "metadata": {},
     "output_type": "execute_result"
    }
   ],
   "source": [
    "df.isnull().any()"
   ]
  },
  {
   "cell_type": "markdown",
   "metadata": {},
   "source": [
    "<p> Una vez consolidado el dataset podemos notar que seguimos teniendo 4 atributos con missing values. La variable total_minutes es la variable a predecir, por lo que no es problema los missing  values. Si lo es para las otras tre variables que podrían utilizarse como variables independientes en los modelos de machine learning que utilizaremos más adelante.El dataset queda con 19 columnas y 99978 filas </p> "
   ]
  },
  {
   "cell_type": "code",
   "execution_count": 75,
   "metadata": {},
   "outputs": [
    {
     "name": "stdout",
     "output_type": "stream",
     "text": [
      "Cantidad de columnas:  19\n",
      "Cantidad de filas:  9978\n"
     ]
    }
   ],
   "source": [
    "print(\"Cantidad de columnas: \", df.shape[1])\n",
    "print(\"Cantidad de filas: \", df.shape[0])"
   ]
  },
  {
   "cell_type": "code",
   "execution_count": 76,
   "metadata": {},
   "outputs": [],
   "source": [
    "# Transform boolean variable in INT\n",
    "df['on_demand'] = np.where(df['on_demand'] == False, 1, 0) \n"
   ]
  },
  {
   "cell_type": "code",
   "execution_count": 77,
   "metadata": {},
   "outputs": [
    {
     "name": "stdout",
     "output_type": "stream",
     "text": [
      "order_id            object\n",
      "lat                float64\n",
      "lng                float64\n",
      "promised_time       object\n",
      "on_demand            int64\n",
      "shopper_id          object\n",
      "store_branch_id     object\n",
      "total_minutes      float64\n",
      "to_weigh             int64\n",
      "no_weigh           float64\n",
      "total_products     float64\n",
      "seniority           object\n",
      "found_rate         float64\n",
      "picking_speed      float64\n",
      "accepted_rate      float64\n",
      "rating             float64\n",
      "store_id            object\n",
      "branch_lat         float64\n",
      "branch_lng         float64\n",
      "dtype: object\n"
     ]
    }
   ],
   "source": [
    "print(df.dtypes)"
   ]
  },
  {
   "cell_type": "markdown",
   "metadata": {},
   "source": [
    "<h1> 3. Preprocessing Data </h1>"
   ]
  },
  {
   "cell_type": "markdown",
   "metadata": {},
   "source": [
    "<p> En esta sección se preprocesará la data antes de ajustar modelos de machine learning, lo que nos ayudará a preparar la data y a enriquecer aún más la data. En esta etapa se imputaran missing values, se borraran variables redundantes o que no entregan valor y se crearan nuevas variables que pueden enriquecer el análisis y la predicción como es el caso de la distancia.  </p>"
   ]
  },
  {
   "cell_type": "markdown",
   "metadata": {},
   "source": [
    "<h3> 3.1 Creating distance variable </h3>"
   ]
  },
  {
   "cell_type": "markdown",
   "metadata": {},
   "source": [
    "<p> Se creará una variable importante que podría estar muy correlacionada al tiempo total del pedido, esta variable es la distancia en kms entre el branch y el cliente. Para poder hacer esto es necesario crear una función que nos permita obtener una distancia desde inputs de latitud y longitud, para esto utilizaremos la función Haversine distance propuesta por la documentación de sklearn. \n",
    "\n",
    "Fuente:https://scikit-learn.org/stable/modules/generated/sklearn.metrics.pairwise.haversine_distances.html  </p>"
   ]
  },
  {
   "cell_type": "code",
   "execution_count": 78,
   "metadata": {},
   "outputs": [],
   "source": [
    "# Haversine distance Function\n",
    "def haversine(lon1, lat1, lon2, lat2):\n",
    "    \"\"\"\n",
    "    Calculate the great circle distance between two points \n",
    "    on the earth (specified in decimal degrees)\n",
    "    \"\"\"\n",
    "    # convert decimal degrees to radians \n",
    "    lon1, lat1, lon2, lat2 = map(radians, [lon1, lat1, lon2, lat2])\n",
    "    # haversine formula \n",
    "    dlon = lon2 - lon1 \n",
    "    dlat = lat2 - lat1 \n",
    "    a = sin(dlat/2)**2 + cos(lat1) * cos(lat2) * sin(dlon/2)**2\n",
    "    c = 2 * asin(sqrt(a)) \n",
    "    # Radius of earth in kilometers is 6371\n",
    "    km = 6371* c\n",
    "    return km"
   ]
  },
  {
   "cell_type": "code",
   "execution_count": 79,
   "metadata": {},
   "outputs": [],
   "source": [
    "# Creating variable distance using the function\n",
    "df['distance'] = df.apply(lambda df: haversine(df['lat'], df['lng'], df['branch_lat'], df['branch_lng']), axis=1)"
   ]
  },
  {
   "cell_type": "markdown",
   "metadata": {},
   "source": [
    "<h3> 3.2 Input Missing Values </h3>"
   ]
  },
  {
   "cell_type": "markdown",
   "metadata": {},
   "source": [
    "<p> Como vimos en la sección 2, hay 4 variables que no poseen missing values por lo que necesitamos realizar un proceso de imputación. Las variables a imputar son las relacionadas al shopper: accepted rate, found rate y rating. La columna toal_minutes es la columna a predecir, por lo que no realizaremos el proceso de imputación en ese caso.   </p>"
   ]
  },
  {
   "cell_type": "code",
   "execution_count": 80,
   "metadata": {},
   "outputs": [],
   "source": [
    "# Create variable with average\n",
    "\n",
    "avg_found_rate = df[\"found_rate\"].astype(\"float\").mean(axis=0)\n",
    "avg_accepted_rate=df[\"accepted_rate\"].astype(\"float\").mean(axis=0)\n",
    "rating_rate=df[\"rating\"].astype(\"float\").mean(axis=0)\n",
    "\n"
   ]
  },
  {
   "cell_type": "code",
   "execution_count": 81,
   "metadata": {},
   "outputs": [],
   "source": [
    "# Replace nan values with mean\n",
    "\n",
    "df[\"found_rate\"].replace(np.nan, avg_found_rate, inplace=True)\n",
    "df[\"accepted_rate\"].replace(np.nan, avg_accepted_rate, inplace=True)\n",
    "df[\"rating\"].replace(np.nan, rating_rate, inplace=True)\n"
   ]
  },
  {
   "cell_type": "markdown",
   "metadata": {},
   "source": [
    "<h3> 3.3 Generate dummies variables </h3>"
   ]
  },
  {
   "cell_type": "markdown",
   "metadata": {},
   "source": [
    "<p> En esta sección se extrajo la variable promised_time la variable day que es un valor categórico, siendo 7 el día lunes y domingo el día 6. Posteriormente se transforma esta variable categórica en 3 dummies que toman valores 1 o 0 dependiendo del día en que se haya realizado la orden. Cabe destacar que solo se crean 3 dummies porque los pedidos del dataset de dan entre viernes y sábado, y solo un caso se da el día domingo.    </p>"
   ]
  },
  {
   "cell_type": "code",
   "execution_count": 82,
   "metadata": {},
   "outputs": [
    {
     "data": {
      "text/html": [
       "<div>\n",
       "<style scoped>\n",
       "    .dataframe tbody tr th:only-of-type {\n",
       "        vertical-align: middle;\n",
       "    }\n",
       "\n",
       "    .dataframe tbody tr th {\n",
       "        vertical-align: top;\n",
       "    }\n",
       "\n",
       "    .dataframe thead th {\n",
       "        text-align: right;\n",
       "    }\n",
       "</style>\n",
       "<table border=\"1\" class=\"dataframe\">\n",
       "  <thead>\n",
       "    <tr style=\"text-align: right;\">\n",
       "      <th></th>\n",
       "      <th>viernes</th>\n",
       "      <th>sabado</th>\n",
       "      <th>domingo</th>\n",
       "    </tr>\n",
       "  </thead>\n",
       "  <tbody>\n",
       "    <tr>\n",
       "      <th>0</th>\n",
       "      <td>1</td>\n",
       "      <td>0</td>\n",
       "      <td>0</td>\n",
       "    </tr>\n",
       "    <tr>\n",
       "      <th>1</th>\n",
       "      <td>0</td>\n",
       "      <td>1</td>\n",
       "      <td>0</td>\n",
       "    </tr>\n",
       "    <tr>\n",
       "      <th>2</th>\n",
       "      <td>0</td>\n",
       "      <td>1</td>\n",
       "      <td>0</td>\n",
       "    </tr>\n",
       "    <tr>\n",
       "      <th>3</th>\n",
       "      <td>0</td>\n",
       "      <td>1</td>\n",
       "      <td>0</td>\n",
       "    </tr>\n",
       "    <tr>\n",
       "      <th>4</th>\n",
       "      <td>0</td>\n",
       "      <td>1</td>\n",
       "      <td>0</td>\n",
       "    </tr>\n",
       "  </tbody>\n",
       "</table>\n",
       "</div>"
      ],
      "text/plain": [
       "   viernes  sabado  domingo\n",
       "0        1       0        0\n",
       "1        0       1        0\n",
       "2        0       1        0\n",
       "3        0       1        0\n",
       "4        0       1        0"
      ]
     },
     "execution_count": 82,
     "metadata": {},
     "output_type": "execute_result"
    }
   ],
   "source": [
    "# Creating dummie variables for days\n",
    "\n",
    "df['day'] = pd.DatetimeIndex(df['promised_time']).weekday\n",
    "dummy_variable_1 = pd.get_dummies(df[\"day\"])\n",
    "dummy_variable_1.rename(columns={4:'viernes', 5:'sabado',6:\"domingo\"}, inplace=True)\n",
    "dummy_variable_1.head()"
   ]
  },
  {
   "cell_type": "code",
   "execution_count": 83,
   "metadata": {},
   "outputs": [],
   "source": [
    "# Adding variable to dataframe\n",
    " \n",
    "df = pd.concat([df, dummy_variable_1], axis=1)\n"
   ]
  },
  {
   "cell_type": "markdown",
   "metadata": {},
   "source": [
    "<h3> 3.4 Dropping  columns </h3>"
   ]
  },
  {
   "cell_type": "markdown",
   "metadata": {},
   "source": [
    "<p> Para poder limpiar el dataset se borran las variables innecesarias como las ids de shoppers, de branches que ya fueron utilizadas para el merge y ya no aportan valor a la hora de intentar predecir el valor del tiempo total de las ordenes. Las variables borradas son lat, long, branch_lat y branch_lng, las cuales ya fueron utilizadas para obtener la distnacia y no aportan valor. Además, se desechan las columnas de promised time, day y viernes, esta última debido a que a la hora de utilizar las dummies de día solo deben utilizarse dos de las tres puesto que una es el nivel base y de referencia.   </p>"
   ]
  },
  {
   "cell_type": "code",
   "execution_count": 84,
   "metadata": {},
   "outputs": [],
   "source": [
    "# Dropping nnecessary variables\n",
    "\n",
    "df.drop(columns=['lat', 'lng', 'branch_lat', 'branch_lng','shopper_id', 'store_branch_id', 'store_id','seniority','promised_time','day','viernes'], inplace=True)"
   ]
  },
  {
   "cell_type": "code",
   "execution_count": 85,
   "metadata": {},
   "outputs": [
    {
     "data": {
      "text/html": [
       "<div>\n",
       "<style scoped>\n",
       "    .dataframe tbody tr th:only-of-type {\n",
       "        vertical-align: middle;\n",
       "    }\n",
       "\n",
       "    .dataframe tbody tr th {\n",
       "        vertical-align: top;\n",
       "    }\n",
       "\n",
       "    .dataframe thead th {\n",
       "        text-align: right;\n",
       "    }\n",
       "</style>\n",
       "<table border=\"1\" class=\"dataframe\">\n",
       "  <thead>\n",
       "    <tr style=\"text-align: right;\">\n",
       "      <th></th>\n",
       "      <th>order_id</th>\n",
       "      <th>on_demand</th>\n",
       "      <th>total_minutes</th>\n",
       "      <th>to_weigh</th>\n",
       "      <th>no_weigh</th>\n",
       "      <th>total_products</th>\n",
       "      <th>found_rate</th>\n",
       "      <th>picking_speed</th>\n",
       "      <th>accepted_rate</th>\n",
       "      <th>rating</th>\n",
       "      <th>distance</th>\n",
       "      <th>sabado</th>\n",
       "      <th>domingo</th>\n",
       "    </tr>\n",
       "  </thead>\n",
       "  <tbody>\n",
       "    <tr>\n",
       "      <th>0</th>\n",
       "      <td>e750294655c2c7c34d83cc3181c09de4</td>\n",
       "      <td>0</td>\n",
       "      <td>67.684264</td>\n",
       "      <td>4</td>\n",
       "      <td>16.0</td>\n",
       "      <td>20.0</td>\n",
       "      <td>0.9024</td>\n",
       "      <td>1.30</td>\n",
       "      <td>0.92</td>\n",
       "      <td>4.76</td>\n",
       "      <td>0.606291</td>\n",
       "      <td>0</td>\n",
       "      <td>0</td>\n",
       "    </tr>\n",
       "    <tr>\n",
       "      <th>1</th>\n",
       "      <td>3bb5d9adb3ecac1925b60d5d26a510c4</td>\n",
       "      <td>0</td>\n",
       "      <td>160.336211</td>\n",
       "      <td>4</td>\n",
       "      <td>63.0</td>\n",
       "      <td>67.0</td>\n",
       "      <td>0.9024</td>\n",
       "      <td>1.30</td>\n",
       "      <td>0.92</td>\n",
       "      <td>4.76</td>\n",
       "      <td>0.872726</td>\n",
       "      <td>1</td>\n",
       "      <td>0</td>\n",
       "    </tr>\n",
       "    <tr>\n",
       "      <th>2</th>\n",
       "      <td>b838eea64cf24dde0a78ce1feb84ca7c</td>\n",
       "      <td>1</td>\n",
       "      <td>122.239210</td>\n",
       "      <td>1</td>\n",
       "      <td>155.0</td>\n",
       "      <td>156.0</td>\n",
       "      <td>0.8909</td>\n",
       "      <td>1.17</td>\n",
       "      <td>0.96</td>\n",
       "      <td>5.00</td>\n",
       "      <td>1.685322</td>\n",
       "      <td>1</td>\n",
       "      <td>0</td>\n",
       "    </tr>\n",
       "    <tr>\n",
       "      <th>3</th>\n",
       "      <td>2c85303190a77493348b0b827232f4d6</td>\n",
       "      <td>1</td>\n",
       "      <td>133.113926</td>\n",
       "      <td>8</td>\n",
       "      <td>115.0</td>\n",
       "      <td>123.0</td>\n",
       "      <td>0.8462</td>\n",
       "      <td>1.11</td>\n",
       "      <td>0.96</td>\n",
       "      <td>4.96</td>\n",
       "      <td>0.766170</td>\n",
       "      <td>1</td>\n",
       "      <td>0</td>\n",
       "    </tr>\n",
       "    <tr>\n",
       "      <th>4</th>\n",
       "      <td>e606cc26b843c312df82a29d1f8d4372</td>\n",
       "      <td>1</td>\n",
       "      <td>94.734479</td>\n",
       "      <td>3</td>\n",
       "      <td>97.0</td>\n",
       "      <td>100.0</td>\n",
       "      <td>0.8138</td>\n",
       "      <td>1.89</td>\n",
       "      <td>0.84</td>\n",
       "      <td>4.68</td>\n",
       "      <td>3.096363</td>\n",
       "      <td>1</td>\n",
       "      <td>0</td>\n",
       "    </tr>\n",
       "  </tbody>\n",
       "</table>\n",
       "</div>"
      ],
      "text/plain": [
       "                           order_id  on_demand  total_minutes  to_weigh  \\\n",
       "0  e750294655c2c7c34d83cc3181c09de4          0      67.684264         4   \n",
       "1  3bb5d9adb3ecac1925b60d5d26a510c4          0     160.336211         4   \n",
       "2  b838eea64cf24dde0a78ce1feb84ca7c          1     122.239210         1   \n",
       "3  2c85303190a77493348b0b827232f4d6          1     133.113926         8   \n",
       "4  e606cc26b843c312df82a29d1f8d4372          1      94.734479         3   \n",
       "\n",
       "   no_weigh  total_products  found_rate  picking_speed  accepted_rate  rating  \\\n",
       "0      16.0            20.0      0.9024           1.30           0.92    4.76   \n",
       "1      63.0            67.0      0.9024           1.30           0.92    4.76   \n",
       "2     155.0           156.0      0.8909           1.17           0.96    5.00   \n",
       "3     115.0           123.0      0.8462           1.11           0.96    4.96   \n",
       "4      97.0           100.0      0.8138           1.89           0.84    4.68   \n",
       "\n",
       "   distance  sabado  domingo  \n",
       "0  0.606291       0        0  \n",
       "1  0.872726       1        0  \n",
       "2  1.685322       1        0  \n",
       "3  0.766170       1        0  \n",
       "4  3.096363       1        0  "
      ]
     },
     "execution_count": 85,
     "metadata": {},
     "output_type": "execute_result"
    }
   ],
   "source": [
    "# Review dataset\n",
    "\n",
    "df.head()"
   ]
  },
  {
   "cell_type": "code",
   "execution_count": 86,
   "metadata": {},
   "outputs": [
    {
     "data": {
      "text/plain": [
       "order_id          False\n",
       "on_demand         False\n",
       "total_minutes      True\n",
       "to_weigh          False\n",
       "no_weigh          False\n",
       "total_products    False\n",
       "found_rate        False\n",
       "picking_speed     False\n",
       "accepted_rate     False\n",
       "rating            False\n",
       "distance          False\n",
       "sabado            False\n",
       "domingo           False\n",
       "dtype: bool"
      ]
     },
     "execution_count": 86,
     "metadata": {},
     "output_type": "execute_result"
    }
   ],
   "source": [
    "df.isnull().any()"
   ]
  },
  {
   "cell_type": "markdown",
   "metadata": {},
   "source": [
    "<p> Podemos ver que la única variable donde quedan valores null es en total_minutes, extraeremos estos casos de la data debido a que no se puede entrenar el modelo si existen filas con variable dependiente nula.  </p>"
   ]
  },
  {
   "cell_type": "code",
   "execution_count": 87,
   "metadata": {},
   "outputs": [],
   "source": [
    "df = df[df['total_minutes'].notnull()]"
   ]
  },
  {
   "cell_type": "code",
   "execution_count": 88,
   "metadata": {},
   "outputs": [],
   "source": [
    "#Export dataset final and consolidated\n",
    "\n",
    "df.to_csv('data1/dataset.csv', header=True, index=False)"
   ]
  },
  {
   "cell_type": "markdown",
   "metadata": {},
   "source": [
    "<h1> 4. Exploratory Dana Analysis </h1>"
   ]
  },
  {
   "cell_type": "markdown",
   "metadata": {},
   "source": [
    "<p> En esta etapa se busca entender el comportamiento y la distribución de las variables, junto con la relación existen ente entre ellas sobre todo con la variable a predecir total_minutes. Esto  permite entender la correlación de las variables explicativas con la variable a predecir.  </p>"
   ]
  },
  {
   "cell_type": "code",
   "execution_count": 89,
   "metadata": {},
   "outputs": [
    {
     "data": {
      "text/html": [
       "<div>\n",
       "<style scoped>\n",
       "    .dataframe tbody tr th:only-of-type {\n",
       "        vertical-align: middle;\n",
       "    }\n",
       "\n",
       "    .dataframe tbody tr th {\n",
       "        vertical-align: top;\n",
       "    }\n",
       "\n",
       "    .dataframe thead th {\n",
       "        text-align: right;\n",
       "    }\n",
       "</style>\n",
       "<table border=\"1\" class=\"dataframe\">\n",
       "  <thead>\n",
       "    <tr style=\"text-align: right;\">\n",
       "      <th></th>\n",
       "      <th>on_demand</th>\n",
       "      <th>total_minutes</th>\n",
       "      <th>to_weigh</th>\n",
       "      <th>no_weigh</th>\n",
       "      <th>total_products</th>\n",
       "      <th>found_rate</th>\n",
       "      <th>picking_speed</th>\n",
       "      <th>accepted_rate</th>\n",
       "      <th>rating</th>\n",
       "      <th>distance</th>\n",
       "      <th>sabado</th>\n",
       "      <th>domingo</th>\n",
       "    </tr>\n",
       "  </thead>\n",
       "  <tbody>\n",
       "    <tr>\n",
       "      <th>on_demand</th>\n",
       "      <td>1.000000</td>\n",
       "      <td>0.263293</td>\n",
       "      <td>0.144636</td>\n",
       "      <td>0.181697</td>\n",
       "      <td>0.185694</td>\n",
       "      <td>-0.027623</td>\n",
       "      <td>-0.065976</td>\n",
       "      <td>0.030865</td>\n",
       "      <td>0.007968</td>\n",
       "      <td>-0.009736</td>\n",
       "      <td>0.514129</td>\n",
       "      <td>0.010219</td>\n",
       "    </tr>\n",
       "    <tr>\n",
       "      <th>total_minutes</th>\n",
       "      <td>0.263293</td>\n",
       "      <td>1.000000</td>\n",
       "      <td>0.345737</td>\n",
       "      <td>0.533873</td>\n",
       "      <td>0.540744</td>\n",
       "      <td>-0.108025</td>\n",
       "      <td>0.080071</td>\n",
       "      <td>-0.020568</td>\n",
       "      <td>-0.020735</td>\n",
       "      <td>0.109730</td>\n",
       "      <td>0.103346</td>\n",
       "      <td>0.011717</td>\n",
       "    </tr>\n",
       "    <tr>\n",
       "      <th>to_weigh</th>\n",
       "      <td>0.144636</td>\n",
       "      <td>0.345737</td>\n",
       "      <td>1.000000</td>\n",
       "      <td>0.412851</td>\n",
       "      <td>0.463235</td>\n",
       "      <td>0.095297</td>\n",
       "      <td>-0.171197</td>\n",
       "      <td>0.095421</td>\n",
       "      <td>-0.025510</td>\n",
       "      <td>-0.005258</td>\n",
       "      <td>0.095680</td>\n",
       "      <td>0.011896</td>\n",
       "    </tr>\n",
       "    <tr>\n",
       "      <th>no_weigh</th>\n",
       "      <td>0.181697</td>\n",
       "      <td>0.533873</td>\n",
       "      <td>0.412851</td>\n",
       "      <td>1.000000</td>\n",
       "      <td>0.998429</td>\n",
       "      <td>0.077686</td>\n",
       "      <td>-0.199571</td>\n",
       "      <td>0.094669</td>\n",
       "      <td>-0.036982</td>\n",
       "      <td>0.004941</td>\n",
       "      <td>0.094303</td>\n",
       "      <td>0.004918</td>\n",
       "    </tr>\n",
       "    <tr>\n",
       "      <th>total_products</th>\n",
       "      <td>0.185694</td>\n",
       "      <td>0.540744</td>\n",
       "      <td>0.463235</td>\n",
       "      <td>0.998429</td>\n",
       "      <td>1.000000</td>\n",
       "      <td>0.081453</td>\n",
       "      <td>-0.204721</td>\n",
       "      <td>0.097986</td>\n",
       "      <td>-0.037554</td>\n",
       "      <td>0.004485</td>\n",
       "      <td>0.097646</td>\n",
       "      <td>0.005517</td>\n",
       "    </tr>\n",
       "    <tr>\n",
       "      <th>found_rate</th>\n",
       "      <td>-0.027623</td>\n",
       "      <td>-0.108025</td>\n",
       "      <td>0.095297</td>\n",
       "      <td>0.077686</td>\n",
       "      <td>0.081453</td>\n",
       "      <td>1.000000</td>\n",
       "      <td>-0.370532</td>\n",
       "      <td>0.115767</td>\n",
       "      <td>-0.008350</td>\n",
       "      <td>-0.015094</td>\n",
       "      <td>-0.005290</td>\n",
       "      <td>-0.004534</td>\n",
       "    </tr>\n",
       "    <tr>\n",
       "      <th>picking_speed</th>\n",
       "      <td>-0.065976</td>\n",
       "      <td>0.080071</td>\n",
       "      <td>-0.171197</td>\n",
       "      <td>-0.199571</td>\n",
       "      <td>-0.204721</td>\n",
       "      <td>-0.370532</td>\n",
       "      <td>1.000000</td>\n",
       "      <td>-0.283670</td>\n",
       "      <td>0.006229</td>\n",
       "      <td>-0.001565</td>\n",
       "      <td>-0.059905</td>\n",
       "      <td>0.007463</td>\n",
       "    </tr>\n",
       "    <tr>\n",
       "      <th>accepted_rate</th>\n",
       "      <td>0.030865</td>\n",
       "      <td>-0.020568</td>\n",
       "      <td>0.095421</td>\n",
       "      <td>0.094669</td>\n",
       "      <td>0.097986</td>\n",
       "      <td>0.115767</td>\n",
       "      <td>-0.283670</td>\n",
       "      <td>1.000000</td>\n",
       "      <td>-0.014304</td>\n",
       "      <td>0.000372</td>\n",
       "      <td>0.021955</td>\n",
       "      <td>0.004988</td>\n",
       "    </tr>\n",
       "    <tr>\n",
       "      <th>rating</th>\n",
       "      <td>0.007968</td>\n",
       "      <td>-0.020735</td>\n",
       "      <td>-0.025510</td>\n",
       "      <td>-0.036982</td>\n",
       "      <td>-0.037554</td>\n",
       "      <td>-0.008350</td>\n",
       "      <td>0.006229</td>\n",
       "      <td>-0.014304</td>\n",
       "      <td>1.000000</td>\n",
       "      <td>0.000890</td>\n",
       "      <td>0.017653</td>\n",
       "      <td>0.009684</td>\n",
       "    </tr>\n",
       "    <tr>\n",
       "      <th>distance</th>\n",
       "      <td>-0.009736</td>\n",
       "      <td>0.109730</td>\n",
       "      <td>-0.005258</td>\n",
       "      <td>0.004941</td>\n",
       "      <td>0.004485</td>\n",
       "      <td>-0.015094</td>\n",
       "      <td>-0.001565</td>\n",
       "      <td>0.000372</td>\n",
       "      <td>0.000890</td>\n",
       "      <td>1.000000</td>\n",
       "      <td>0.003780</td>\n",
       "      <td>-0.007196</td>\n",
       "    </tr>\n",
       "    <tr>\n",
       "      <th>sabado</th>\n",
       "      <td>0.514129</td>\n",
       "      <td>0.103346</td>\n",
       "      <td>0.095680</td>\n",
       "      <td>0.094303</td>\n",
       "      <td>0.097646</td>\n",
       "      <td>-0.005290</td>\n",
       "      <td>-0.059905</td>\n",
       "      <td>0.021955</td>\n",
       "      <td>0.017653</td>\n",
       "      <td>0.003780</td>\n",
       "      <td>1.000000</td>\n",
       "      <td>-0.017493</td>\n",
       "    </tr>\n",
       "    <tr>\n",
       "      <th>domingo</th>\n",
       "      <td>0.010219</td>\n",
       "      <td>0.011717</td>\n",
       "      <td>0.011896</td>\n",
       "      <td>0.004918</td>\n",
       "      <td>0.005517</td>\n",
       "      <td>-0.004534</td>\n",
       "      <td>0.007463</td>\n",
       "      <td>0.004988</td>\n",
       "      <td>0.009684</td>\n",
       "      <td>-0.007196</td>\n",
       "      <td>-0.017493</td>\n",
       "      <td>1.000000</td>\n",
       "    </tr>\n",
       "  </tbody>\n",
       "</table>\n",
       "</div>"
      ],
      "text/plain": [
       "                on_demand  total_minutes  to_weigh  no_weigh  total_products  \\\n",
       "on_demand        1.000000       0.263293  0.144636  0.181697        0.185694   \n",
       "total_minutes    0.263293       1.000000  0.345737  0.533873        0.540744   \n",
       "to_weigh         0.144636       0.345737  1.000000  0.412851        0.463235   \n",
       "no_weigh         0.181697       0.533873  0.412851  1.000000        0.998429   \n",
       "total_products   0.185694       0.540744  0.463235  0.998429        1.000000   \n",
       "found_rate      -0.027623      -0.108025  0.095297  0.077686        0.081453   \n",
       "picking_speed   -0.065976       0.080071 -0.171197 -0.199571       -0.204721   \n",
       "accepted_rate    0.030865      -0.020568  0.095421  0.094669        0.097986   \n",
       "rating           0.007968      -0.020735 -0.025510 -0.036982       -0.037554   \n",
       "distance        -0.009736       0.109730 -0.005258  0.004941        0.004485   \n",
       "sabado           0.514129       0.103346  0.095680  0.094303        0.097646   \n",
       "domingo          0.010219       0.011717  0.011896  0.004918        0.005517   \n",
       "\n",
       "                found_rate  picking_speed  accepted_rate    rating  distance  \\\n",
       "on_demand        -0.027623      -0.065976       0.030865  0.007968 -0.009736   \n",
       "total_minutes    -0.108025       0.080071      -0.020568 -0.020735  0.109730   \n",
       "to_weigh          0.095297      -0.171197       0.095421 -0.025510 -0.005258   \n",
       "no_weigh          0.077686      -0.199571       0.094669 -0.036982  0.004941   \n",
       "total_products    0.081453      -0.204721       0.097986 -0.037554  0.004485   \n",
       "found_rate        1.000000      -0.370532       0.115767 -0.008350 -0.015094   \n",
       "picking_speed    -0.370532       1.000000      -0.283670  0.006229 -0.001565   \n",
       "accepted_rate     0.115767      -0.283670       1.000000 -0.014304  0.000372   \n",
       "rating           -0.008350       0.006229      -0.014304  1.000000  0.000890   \n",
       "distance         -0.015094      -0.001565       0.000372  0.000890  1.000000   \n",
       "sabado           -0.005290      -0.059905       0.021955  0.017653  0.003780   \n",
       "domingo          -0.004534       0.007463       0.004988  0.009684 -0.007196   \n",
       "\n",
       "                  sabado   domingo  \n",
       "on_demand       0.514129  0.010219  \n",
       "total_minutes   0.103346  0.011717  \n",
       "to_weigh        0.095680  0.011896  \n",
       "no_weigh        0.094303  0.004918  \n",
       "total_products  0.097646  0.005517  \n",
       "found_rate     -0.005290 -0.004534  \n",
       "picking_speed  -0.059905  0.007463  \n",
       "accepted_rate   0.021955  0.004988  \n",
       "rating          0.017653  0.009684  \n",
       "distance        0.003780 -0.007196  \n",
       "sabado          1.000000 -0.017493  \n",
       "domingo        -0.017493  1.000000  "
      ]
     },
     "execution_count": 89,
     "metadata": {},
     "output_type": "execute_result"
    }
   ],
   "source": [
    "df.corr()"
   ]
  },
  {
   "cell_type": "code",
   "execution_count": 90,
   "metadata": {},
   "outputs": [
    {
     "data": {
      "text/html": [
       "<div>\n",
       "<style scoped>\n",
       "    .dataframe tbody tr th:only-of-type {\n",
       "        vertical-align: middle;\n",
       "    }\n",
       "\n",
       "    .dataframe tbody tr th {\n",
       "        vertical-align: top;\n",
       "    }\n",
       "\n",
       "    .dataframe thead th {\n",
       "        text-align: right;\n",
       "    }\n",
       "</style>\n",
       "<table border=\"1\" class=\"dataframe\">\n",
       "  <thead>\n",
       "    <tr style=\"text-align: right;\">\n",
       "      <th></th>\n",
       "      <th>on_demand</th>\n",
       "      <th>total_minutes</th>\n",
       "      <th>to_weigh</th>\n",
       "      <th>no_weigh</th>\n",
       "      <th>total_products</th>\n",
       "      <th>found_rate</th>\n",
       "      <th>picking_speed</th>\n",
       "      <th>accepted_rate</th>\n",
       "      <th>rating</th>\n",
       "      <th>distance</th>\n",
       "      <th>sabado</th>\n",
       "      <th>domingo</th>\n",
       "    </tr>\n",
       "  </thead>\n",
       "  <tbody>\n",
       "    <tr>\n",
       "      <th>count</th>\n",
       "      <td>7983.000000</td>\n",
       "      <td>7983.000000</td>\n",
       "      <td>7983.000000</td>\n",
       "      <td>7983.000000</td>\n",
       "      <td>7983.000000</td>\n",
       "      <td>7983.000000</td>\n",
       "      <td>7983.000000</td>\n",
       "      <td>7983.000000</td>\n",
       "      <td>7983.000000</td>\n",
       "      <td>7983.000000</td>\n",
       "      <td>7983.000000</td>\n",
       "      <td>7983.000000</td>\n",
       "    </tr>\n",
       "    <tr>\n",
       "      <th>mean</th>\n",
       "      <td>0.545409</td>\n",
       "      <td>81.152277</td>\n",
       "      <td>1.775272</td>\n",
       "      <td>34.453589</td>\n",
       "      <td>36.228861</td>\n",
       "      <td>0.863376</td>\n",
       "      <td>1.689766</td>\n",
       "      <td>0.916663</td>\n",
       "      <td>4.850866</td>\n",
       "      <td>2.126144</td>\n",
       "      <td>0.709508</td>\n",
       "      <td>0.000125</td>\n",
       "    </tr>\n",
       "    <tr>\n",
       "      <th>std</th>\n",
       "      <td>0.497965</td>\n",
       "      <td>34.705843</td>\n",
       "      <td>2.093374</td>\n",
       "      <td>33.111401</td>\n",
       "      <td>34.029110</td>\n",
       "      <td>0.029568</td>\n",
       "      <td>0.630342</td>\n",
       "      <td>0.097248</td>\n",
       "      <td>0.126150</td>\n",
       "      <td>1.533800</td>\n",
       "      <td>0.454018</td>\n",
       "      <td>0.011192</td>\n",
       "    </tr>\n",
       "    <tr>\n",
       "      <th>min</th>\n",
       "      <td>0.000000</td>\n",
       "      <td>11.969489</td>\n",
       "      <td>0.000000</td>\n",
       "      <td>0.000000</td>\n",
       "      <td>1.000000</td>\n",
       "      <td>0.737300</td>\n",
       "      <td>0.650000</td>\n",
       "      <td>0.240000</td>\n",
       "      <td>3.880000</td>\n",
       "      <td>0.026010</td>\n",
       "      <td>0.000000</td>\n",
       "      <td>0.000000</td>\n",
       "    </tr>\n",
       "    <tr>\n",
       "      <th>25%</th>\n",
       "      <td>0.000000</td>\n",
       "      <td>55.301119</td>\n",
       "      <td>0.000000</td>\n",
       "      <td>11.000000</td>\n",
       "      <td>12.000000</td>\n",
       "      <td>0.846800</td>\n",
       "      <td>1.260000</td>\n",
       "      <td>0.880000</td>\n",
       "      <td>4.800000</td>\n",
       "      <td>1.031864</td>\n",
       "      <td>0.000000</td>\n",
       "      <td>0.000000</td>\n",
       "    </tr>\n",
       "    <tr>\n",
       "      <th>50%</th>\n",
       "      <td>1.000000</td>\n",
       "      <td>74.752992</td>\n",
       "      <td>1.000000</td>\n",
       "      <td>25.000000</td>\n",
       "      <td>27.000000</td>\n",
       "      <td>0.865200</td>\n",
       "      <td>1.520000</td>\n",
       "      <td>0.960000</td>\n",
       "      <td>4.880000</td>\n",
       "      <td>1.759081</td>\n",
       "      <td>1.000000</td>\n",
       "      <td>0.000000</td>\n",
       "    </tr>\n",
       "    <tr>\n",
       "      <th>75%</th>\n",
       "      <td>1.000000</td>\n",
       "      <td>100.302939</td>\n",
       "      <td>3.000000</td>\n",
       "      <td>48.000000</td>\n",
       "      <td>51.000000</td>\n",
       "      <td>0.883350</td>\n",
       "      <td>2.000000</td>\n",
       "      <td>1.000000</td>\n",
       "      <td>4.960000</td>\n",
       "      <td>2.858657</td>\n",
       "      <td>1.000000</td>\n",
       "      <td>0.000000</td>\n",
       "    </tr>\n",
       "    <tr>\n",
       "      <th>max</th>\n",
       "      <td>1.000000</td>\n",
       "      <td>304.190303</td>\n",
       "      <td>16.000000</td>\n",
       "      <td>317.000000</td>\n",
       "      <td>319.000000</td>\n",
       "      <td>0.971000</td>\n",
       "      <td>7.040000</td>\n",
       "      <td>1.000000</td>\n",
       "      <td>5.000000</td>\n",
       "      <td>12.668125</td>\n",
       "      <td>1.000000</td>\n",
       "      <td>1.000000</td>\n",
       "    </tr>\n",
       "  </tbody>\n",
       "</table>\n",
       "</div>"
      ],
      "text/plain": [
       "         on_demand  total_minutes     to_weigh     no_weigh  total_products  \\\n",
       "count  7983.000000    7983.000000  7983.000000  7983.000000     7983.000000   \n",
       "mean      0.545409      81.152277     1.775272    34.453589       36.228861   \n",
       "std       0.497965      34.705843     2.093374    33.111401       34.029110   \n",
       "min       0.000000      11.969489     0.000000     0.000000        1.000000   \n",
       "25%       0.000000      55.301119     0.000000    11.000000       12.000000   \n",
       "50%       1.000000      74.752992     1.000000    25.000000       27.000000   \n",
       "75%       1.000000     100.302939     3.000000    48.000000       51.000000   \n",
       "max       1.000000     304.190303    16.000000   317.000000      319.000000   \n",
       "\n",
       "        found_rate  picking_speed  accepted_rate       rating     distance  \\\n",
       "count  7983.000000    7983.000000    7983.000000  7983.000000  7983.000000   \n",
       "mean      0.863376       1.689766       0.916663     4.850866     2.126144   \n",
       "std       0.029568       0.630342       0.097248     0.126150     1.533800   \n",
       "min       0.737300       0.650000       0.240000     3.880000     0.026010   \n",
       "25%       0.846800       1.260000       0.880000     4.800000     1.031864   \n",
       "50%       0.865200       1.520000       0.960000     4.880000     1.759081   \n",
       "75%       0.883350       2.000000       1.000000     4.960000     2.858657   \n",
       "max       0.971000       7.040000       1.000000     5.000000    12.668125   \n",
       "\n",
       "            sabado      domingo  \n",
       "count  7983.000000  7983.000000  \n",
       "mean      0.709508     0.000125  \n",
       "std       0.454018     0.011192  \n",
       "min       0.000000     0.000000  \n",
       "25%       0.000000     0.000000  \n",
       "50%       1.000000     0.000000  \n",
       "75%       1.000000     0.000000  \n",
       "max       1.000000     1.000000  "
      ]
     },
     "execution_count": 90,
     "metadata": {},
     "output_type": "execute_result"
    }
   ],
   "source": [
    "df.describe()"
   ]
  },
  {
   "cell_type": "markdown",
   "metadata": {},
   "source": [
    "<p> En el análisis se puede aprecia que el 55% de los pedidos son on demand,  que el tiempo promedio por pedido es de 81 minutos, que el promedio de distancia entre el branch y el cliente es de 2.1 km. En la matriz de correlación, que en magnitud, las variables que poseen una mayor correlación con respecto a total_minutes son las variables on demand, total products, distance y la dummy sábado.  </p>"
   ]
  },
  {
   "cell_type": "code",
   "execution_count": 91,
   "metadata": {},
   "outputs": [
    {
     "data": {
      "text/plain": [
       "(0.0, 318.801343536667)"
      ]
     },
     "execution_count": 91,
     "metadata": {},
     "output_type": "execute_result"
    },
    {
     "data": {
      "image/png": "[encoded data removed]",
      "text/plain": [
       "<Figure size 432x288 with 1 Axes>"
      ]
     },
     "metadata": {
      "needs_background": "light"
     },
     "output_type": "display_data"
    }
   ],
   "source": [
    "# Total products vs total minutes\n",
    "sns.regplot(x=\"total_products\", y=\"total_minutes\", data=df)\n",
    "plt.ylim(0,)"
   ]
  },
  {
   "cell_type": "code",
   "execution_count": 92,
   "metadata": {},
   "outputs": [
    {
     "data": {
      "text/plain": [
       "(0.0, 318.801343536667)"
      ]
     },
     "execution_count": 92,
     "metadata": {},
     "output_type": "execute_result"
    },
    {
     "data": {
      "image/png": "[encoded data removed]",
      "text/plain": [
       "<Figure size 432x288 with 1 Axes>"
      ]
     },
     "metadata": {
      "needs_background": "light"
     },
     "output_type": "display_data"
    }
   ],
   "source": [
    "# Distance vs total minutes\n",
    "sns.regplot(x=\"distance\", y=\"total_minutes\", data=df)\n",
    "plt.ylim(0,)"
   ]
  },
  {
   "cell_type": "markdown",
   "metadata": {},
   "source": [
    "<p> Se puede apreciar que en los dos gráficos anteriores eciste una relación lineal entre ambas varianles, sin embargo es mucho más marcada y clara en el primer gráfico que compara total products y total time, lo que tiene mucho sentido con lo visto en la matriz de correlación, donde esta tiene una magnitud de 0.54.  </p>"
   ]
  },
  {
   "cell_type": "code",
   "execution_count": 93,
   "metadata": {},
   "outputs": [
    {
     "data": {
      "text/plain": [
       "<matplotlib.axes._subplots.AxesSubplot at 0x7ffd76d42790>"
      ]
     },
     "execution_count": 93,
     "metadata": {},
     "output_type": "execute_result"
    },
    {
     "data": {
      "image/png": "[encoded data removed]",
      "text/plain": [
       "<Figure size 432x288 with 1 Axes>"
      ]
     },
     "metadata": {
      "needs_background": "light"
     },
     "output_type": "display_data"
    }
   ],
   "source": [
    "# Boxplot total minutes\n",
    "sns.boxplot(x=\"total_minutes\", data=df)"
   ]
  },
  {
   "cell_type": "markdown",
   "metadata": {},
   "source": [
    "<p> Se puede notar que la mediana está en 74.7 minutos y que hay valores outliers, sin embargo preferimos no sacarlos y luego utilizar una métrica a la hora de evaluar predicciones que logre hacerse cargo de estos valores.  </p>"
   ]
  },
  {
   "cell_type": "code",
   "execution_count": 95,
   "metadata": {},
   "outputs": [
    {
     "data": {
      "text/plain": [
       "<matplotlib.axes._subplots.AxesSubplot at 0x7ffd7684a3a0>"
      ]
     },
     "execution_count": 95,
     "metadata": {},
     "output_type": "execute_result"
    },
    {
     "data": {
      "image/png": "[encoded data removed]",
      "text/plain": [
       "<Figure size 432x288 with 2 Axes>"
      ]
     },
     "metadata": {
      "needs_background": "light"
     },
     "output_type": "display_data"
    }
   ],
   "source": [
    "# Correlation Matrix\n",
    "df_corr = df.corr()\n",
    "sns.heatmap(df_corr,  cmap='coolwarm', fmt='.2f')"
   ]
  },
  {
   "cell_type": "markdown",
   "metadata": {},
   "source": [
    "<p> Como ya lo hicimos anteriormente se construye una matriz de correlación esta vez con un formato más visual, se puede notar nuevamente que la variable más influyente en total minutes, la variable a predecir, es la variable total products.  </p>"
   ]
  },
  {
   "cell_type": "code",
   "execution_count": 96,
   "metadata": {},
   "outputs": [
    {
     "data": {
      "text/plain": [
       "order_id          False\n",
       "on_demand         False\n",
       "total_minutes     False\n",
       "to_weigh          False\n",
       "no_weigh          False\n",
       "total_products    False\n",
       "found_rate        False\n",
       "picking_speed     False\n",
       "accepted_rate     False\n",
       "rating            False\n",
       "distance          False\n",
       "sabado            False\n",
       "domingo           False\n",
       "dtype: bool"
      ]
     },
     "execution_count": 96,
     "metadata": {},
     "output_type": "execute_result"
    }
   ],
   "source": [
    "df.isnull().any()"
   ]
  },
  {
   "cell_type": "markdown",
   "metadata": {},
   "source": [
    "<p> Finalmente vemos que no hay missing values, lo cual es importante a la hora de entrenar los modelos de ML.  </p>"
   ]
  },
  {
   "cell_type": "markdown",
   "metadata": {},
   "source": [
    "<h1> 5. Proposed Predictive Models </h1>"
   ]
  },
  {
   "cell_type": "markdown",
   "metadata": {},
   "source": [
    "<p>En esta sección, primero se generan los conjuntos necesario para entrenar los modelos, estos son los conjuntos de testeo y de entrenamiento para poder utilizar cross validation y así obtener mejores predicciones con esta técnica.\n",
    "\n",
    "Posteriormente se ajustaran los modelos. Los modelos propuestos son los siguientes:</p>\n",
    "\n",
    "<li> Multiple linear regression </li>\n",
    "<li> Random Forest </li>\n",
    "\n",
    "<p>Las métricas a utilizar serán MAE y RMSE que son métricas que se utilizan frecuentemente en estos casos para medir de buena forma los errores de predicción. </p>\n",
    "\n"
   ]
  },
  {
   "cell_type": "markdown",
   "metadata": {},
   "source": [
    "<h3> 5.1 Preparation Data </h3>"
   ]
  },
  {
   "cell_type": "code",
   "execution_count": 103,
   "metadata": {},
   "outputs": [],
   "source": [
    "# Creating variables X e Y\n",
    "\n",
    "x_1 = df.drop(columns=['total_minutes','to_weigh','no_weigh','accepted_rate','rating','order_id']) # remove order_id column and target\n",
    "x_2=df.drop(columns=['total_minutes','total_products','order_id'])\n",
    "y = df['total_minutes']"
   ]
  },
  {
   "cell_type": "code",
   "execution_count": 104,
   "metadata": {},
   "outputs": [
    {
     "name": "stdout",
     "output_type": "stream",
     "text": [
      "number of test samples : 1597\n",
      "number of training samples: 6386\n"
     ]
    }
   ],
   "source": [
    "# Partitioning the data first model. Test Size=0.2\n",
    "\n",
    "x_train1, x_test1, y_train1, y_test1 = train_test_split(x_1, y, test_size=0.2, random_state=1)\n",
    "print(\"number of test samples :\", x_test1.shape[0])\n",
    "print(\"number of training samples:\",x_train1.shape[0])"
   ]
  },
  {
   "cell_type": "code",
   "execution_count": 105,
   "metadata": {},
   "outputs": [
    {
     "name": "stdout",
     "output_type": "stream",
     "text": [
      "number of test samples : 1597\n",
      "number of training samples: 6386\n"
     ]
    }
   ],
   "source": [
    "# Partitioning the data second model. Test Size=0.2\n",
    "\n",
    "x_train2, x_test2, y_train2, y_test2 = train_test_split(x_2, y, test_size=0.2, random_state=1)\n",
    "print(\"number of test samples :\", x_test2.shape[0])\n",
    "print(\"number of training samples:\",x_train2.shape[0])"
   ]
  },
  {
   "cell_type": "code",
   "execution_count": 106,
   "metadata": {},
   "outputs": [],
   "source": [
    "# Scaling the data\n",
    "\n",
    "sc_x=StandardScaler()\n",
    "x_train1=sc_x.fit_transform(x_train1)\n",
    "x_test1=sc_x.fit_transform(x_test1)\n",
    "x_train2=sc_x.fit_transform(x_train2)\n",
    "x_test2=sc_x.fit_transform(x_test2)"
   ]
  },
  {
   "cell_type": "markdown",
   "metadata": {},
   "source": [
    "<p> Se crean dos conjuntos de variables explicativas en el primero se sacan las variables to weigh y no weoigh ya que son redundantes con la variable total products, sacamos rating y accepted rate que son las variables que menos influencia tienen en total minutes según la matriz de correlación vista en la sección anterior.\n",
    "\n",
    "En el segundo conjunto de variables explicativas se consevan todas las variables y se excluye total products para que no sean reduddantes con las variables weigh y no weigh.\n",
    "\n",
    "Se decide dejar un 20% de la data para testeo. Y se escala la data para poder ajustar de mejor forma los modelos propuestos. </p>"
   ]
  },
  {
   "cell_type": "markdown",
   "metadata": {},
   "source": [
    "<h3> 5.2 Multiple Linear Regression </h3>"
   ]
  },
  {
   "cell_type": "code",
   "execution_count": 107,
   "metadata": {},
   "outputs": [
    {
     "name": "stdout",
     "output_type": "stream",
     "text": [
      "R2 de modelo 1 es igual a  0.3742588264496325\n"
     ]
    }
   ],
   "source": [
    "# Ajust first model\n",
    "\n",
    "lre=LinearRegression()\n",
    "lre1=lre.fit(x_train1, y_train1)\n",
    "\n",
    "print(\"R2 de modelo 1 es igual a \",lre.score(x_train1, y_train1))\n",
    "\n",
    "# Predictions\n",
    "time_pred1_lr = lre1.predict(x_test1)\n"
   ]
  },
  {
   "cell_type": "code",
   "execution_count": 109,
   "metadata": {},
   "outputs": [
    {
     "name": "stdout",
     "output_type": "stream",
     "text": [
      "MAE del modelo lr 1 es:  20.67329782752329\n",
      "RMSE del modelo lr 1 es:  26.267437235709632\n"
     ]
    }
   ],
   "source": [
    "# Error predicctios first model\n",
    "\n",
    "mae1 = mean_absolute_error(y_test1, time_pred1_lr)\n",
    "rmse1 = np.sqrt(mean_squared_error(y_test1, time_pred1_lr))\n",
    "print(\"MAE del modelo lr 1 es: \", mae1)\n",
    "print(\"RMSE del modelo lr 1 es: \", rmse1)"
   ]
  },
  {
   "cell_type": "code",
   "execution_count": 110,
   "metadata": {},
   "outputs": [
    {
     "name": "stdout",
     "output_type": "stream",
     "text": [
      "R2 de modelo 2 es igual a  0.38734691322502623\n"
     ]
    }
   ],
   "source": [
    "# Adjust second model\n",
    "\n",
    "lre2=lre.fit(x_train2, y_train2)\n",
    "print(\"R2 de modelo 2 es igual a \",lre2.score(x_train2, y_train2))\n",
    "# Predictions\n",
    "time_pred2_lr = lre2.predict(x_test2)"
   ]
  },
  {
   "cell_type": "code",
   "execution_count": 111,
   "metadata": {},
   "outputs": [
    {
     "name": "stdout",
     "output_type": "stream",
     "text": [
      "MAE del modelo lr 2 es:  20.353211069786433\n",
      "RMSE del modelo lr 2 es:  25.78025974393172\n"
     ]
    }
   ],
   "source": [
    "# Error predicctios second model\n",
    "\n",
    "mae2 = mean_absolute_error(y_test2, time_pred2_lr)\n",
    "rmse2 = np.sqrt(mean_squared_error(y_test2, time_pred2_lr))\n",
    "print(\"MAE del modelo lr 2 es: \", mae2)\n",
    "print(\"RMSE del modelo lr 2 es: \", rmse2)"
   ]
  },
  {
   "cell_type": "markdown",
   "metadata": {},
   "source": [
    "<p> El segundo modelo posse un R^2 de 0.387 siendo mayor que el primero, lo cual quiere decir que explica de mejor forma la varianza de la data. Además, podemos observar que el segundo modelo posee tanto un menor MAE como un menor RMSE lo que nos permite afirmar que posee un mayor poder predictivo que el primer modelo. </p>"
   ]
  },
  {
   "cell_type": "markdown",
   "metadata": {},
   "source": [
    "<h3> 5.3 Random Forest </h3>"
   ]
  },
  {
   "cell_type": "code",
   "execution_count": 112,
   "metadata": {},
   "outputs": [
    {
     "name": "stdout",
     "output_type": "stream",
     "text": [
      "MAE del modelo RF 1 es:  20.836070088452928\n",
      "RMSE del modelo RF 1 es  26.36885447346401\n"
     ]
    }
   ],
   "source": [
    "# Adjust first model Random Forest \n",
    "\n",
    "rf=RandomForestRegressor()\n",
    "rf1=rf.fit(x_train1, y_train1)\n",
    "\n",
    "# Predictions\n",
    "time_pred1_rf = rf1.predict(x_test1)\n",
    "\n",
    "# Model errors\n",
    "\n",
    "mae_rf1 = mean_absolute_error(y_test1, time_pred1_rf)\n",
    "rmse_rf1 = np.sqrt(mean_squared_error(y_test1, time_pred1_rf))\n",
    "\n",
    "print(\"MAE del modelo RF 1 es: \", mae_rf1)\n",
    "print(\"RMSE del modelo RF 1 es \", rmse_rf1)\n"
   ]
  },
  {
   "cell_type": "code",
   "execution_count": 116,
   "metadata": {},
   "outputs": [
    {
     "name": "stdout",
     "output_type": "stream",
     "text": [
      "MAE del modelo RF 2 es:  20.61528857957326\n",
      "RMSE del modelo RF 2 es  26.044927445367275\n"
     ]
    }
   ],
   "source": [
    "# Adjust second model Random Forest \n",
    "\n",
    "rf2=rf.fit(x_train2, y_train2)\n",
    "\n",
    "# Predictions\n",
    "time_pred2_rf = rf2.predict(x_test2)\n",
    "\n",
    "# Model errors\n",
    "\n",
    "mae_rf2 = mean_absolute_error(y_test2, time_pred2_rf)\n",
    "rmse_rf2 = np.sqrt(mean_squared_error(y_test2, time_pred2_rf))\n",
    "\n",
    "print(\"MAE del modelo RF 2 es: \", mae_rf2)\n",
    "print(\"RMSE del modelo RF 2 es \", rmse_rf2)"
   ]
  },
  {
   "cell_type": "markdown",
   "metadata": {},
   "source": [
    "<p> Para este tipo de modelos, podemos ver que el primer modelo tiene un más bajo MAE, mientars que el segundo tiene menor RMSE. Dada las condiciones de este modelo, donde hay outliers que no extrajimos de total minutes para no manipular tanto la data, nos quedaremos con el MAE pues se hace cargo de mejor forma de este tipo de datos excepcionales. Con lo anteriormente descrito el mejor modelo de ambos es el segundo con MAE de 20.615.  </p>"
   ]
  },
  {
   "cell_type": "markdown",
   "metadata": {},
   "source": [
    "<h1> 6. Results </h1>"
   ]
  },
  {
   "cell_type": "markdown",
   "metadata": {},
   "source": [
    "<p> De los 4 modelos corridos, dos en random forest y dos en regresión lineal, de los 4 modelos el que mejor predice y que por consecuencia tiene menor MAE es el segundo modelo de regresión lineal con un MAE de 20.352, mientras que el modelo que le sigue es el primero de la regresión lineal multiple con un MAE de 20.67 En esta sección guardaremos con un csv las predicciones del mejor modelo encontrado.  </p>"
   ]
  },
  {
   "cell_type": "code",
   "execution_count": 124,
   "metadata": {},
   "outputs": [],
   "source": [
    "# Scaling complete data\n",
    "\n",
    "sc_x=StandardScaler()\n",
    "x_2S=sc_x.fit_transform(x_2)"
   ]
  },
  {
   "cell_type": "code",
   "execution_count": 130,
   "metadata": {},
   "outputs": [],
   "source": [
    "# Predictions complete data\n",
    "\n",
    "best_pred = lre2.predict(x_2S)"
   ]
  },
  {
   "cell_type": "code",
   "execution_count": 131,
   "metadata": {},
   "outputs": [],
   "source": [
    "# Adding prediction column  total_minutes_pred\n",
    "\n",
    "x_2['total_minutes_pred']=best_pred"
   ]
  },
  {
   "cell_type": "code",
   "execution_count": 132,
   "metadata": {},
   "outputs": [],
   "source": [
    "#Adding real total minutes for comparation\n",
    "\n",
    "x_2['total_minutes_real']=y\n"
   ]
  },
  {
   "cell_type": "code",
   "execution_count": 133,
   "metadata": {},
   "outputs": [],
   "source": [
    "# Exporting dataframe with prediciton\n",
    "\n",
    "x_2.to_csv('data1/Predictions_best_model', header=True, index=False)"
   ]
  },
  {
   "cell_type": "code",
   "execution_count": 134,
   "metadata": {},
   "outputs": [
    {
     "data": {
      "text/html": [
       "<div>\n",
       "<style scoped>\n",
       "    .dataframe tbody tr th:only-of-type {\n",
       "        vertical-align: middle;\n",
       "    }\n",
       "\n",
       "    .dataframe tbody tr th {\n",
       "        vertical-align: top;\n",
       "    }\n",
       "\n",
       "    .dataframe thead th {\n",
       "        text-align: right;\n",
       "    }\n",
       "</style>\n",
       "<table border=\"1\" class=\"dataframe\">\n",
       "  <thead>\n",
       "    <tr style=\"text-align: right;\">\n",
       "      <th></th>\n",
       "      <th>on_demand</th>\n",
       "      <th>to_weigh</th>\n",
       "      <th>no_weigh</th>\n",
       "      <th>found_rate</th>\n",
       "      <th>picking_speed</th>\n",
       "      <th>accepted_rate</th>\n",
       "      <th>rating</th>\n",
       "      <th>distance</th>\n",
       "      <th>sabado</th>\n",
       "      <th>domingo</th>\n",
       "      <th>total_minutes_pred</th>\n",
       "      <th>total_minutes_real</th>\n",
       "    </tr>\n",
       "  </thead>\n",
       "  <tbody>\n",
       "    <tr>\n",
       "      <th>0</th>\n",
       "      <td>0</td>\n",
       "      <td>4</td>\n",
       "      <td>16.0</td>\n",
       "      <td>0.9024</td>\n",
       "      <td>1.30</td>\n",
       "      <td>0.92</td>\n",
       "      <td>4.76</td>\n",
       "      <td>0.606291</td>\n",
       "      <td>0</td>\n",
       "      <td>0</td>\n",
       "      <td>61.625746</td>\n",
       "      <td>67.684264</td>\n",
       "    </tr>\n",
       "    <tr>\n",
       "      <th>1</th>\n",
       "      <td>0</td>\n",
       "      <td>4</td>\n",
       "      <td>63.0</td>\n",
       "      <td>0.9024</td>\n",
       "      <td>1.30</td>\n",
       "      <td>0.92</td>\n",
       "      <td>4.76</td>\n",
       "      <td>0.872726</td>\n",
       "      <td>1</td>\n",
       "      <td>0</td>\n",
       "      <td>82.517758</td>\n",
       "      <td>160.336211</td>\n",
       "    </tr>\n",
       "    <tr>\n",
       "      <th>2</th>\n",
       "      <td>1</td>\n",
       "      <td>1</td>\n",
       "      <td>155.0</td>\n",
       "      <td>0.8909</td>\n",
       "      <td>1.17</td>\n",
       "      <td>0.96</td>\n",
       "      <td>5.00</td>\n",
       "      <td>1.685322</td>\n",
       "      <td>1</td>\n",
       "      <td>0</td>\n",
       "      <td>135.874927</td>\n",
       "      <td>122.239210</td>\n",
       "    </tr>\n",
       "    <tr>\n",
       "      <th>3</th>\n",
       "      <td>1</td>\n",
       "      <td>8</td>\n",
       "      <td>115.0</td>\n",
       "      <td>0.8462</td>\n",
       "      <td>1.11</td>\n",
       "      <td>0.96</td>\n",
       "      <td>4.96</td>\n",
       "      <td>0.766170</td>\n",
       "      <td>1</td>\n",
       "      <td>0</td>\n",
       "      <td>135.306734</td>\n",
       "      <td>133.113926</td>\n",
       "    </tr>\n",
       "    <tr>\n",
       "      <th>4</th>\n",
       "      <td>1</td>\n",
       "      <td>3</td>\n",
       "      <td>97.0</td>\n",
       "      <td>0.8138</td>\n",
       "      <td>1.89</td>\n",
       "      <td>0.84</td>\n",
       "      <td>4.68</td>\n",
       "      <td>3.096363</td>\n",
       "      <td>1</td>\n",
       "      <td>0</td>\n",
       "      <td>130.843043</td>\n",
       "      <td>94.734479</td>\n",
       "    </tr>\n",
       "  </tbody>\n",
       "</table>\n",
       "</div>"
      ],
      "text/plain": [
       "   on_demand  to_weigh  no_weigh  found_rate  picking_speed  accepted_rate  \\\n",
       "0          0         4      16.0      0.9024           1.30           0.92   \n",
       "1          0         4      63.0      0.9024           1.30           0.92   \n",
       "2          1         1     155.0      0.8909           1.17           0.96   \n",
       "3          1         8     115.0      0.8462           1.11           0.96   \n",
       "4          1         3      97.0      0.8138           1.89           0.84   \n",
       "\n",
       "   rating  distance  sabado  domingo  total_minutes_pred  total_minutes_real  \n",
       "0    4.76  0.606291       0        0           61.625746           67.684264  \n",
       "1    4.76  0.872726       1        0           82.517758          160.336211  \n",
       "2    5.00  1.685322       1        0          135.874927          122.239210  \n",
       "3    4.96  0.766170       1        0          135.306734          133.113926  \n",
       "4    4.68  3.096363       1        0          130.843043           94.734479  "
      ]
     },
     "execution_count": 134,
     "metadata": {},
     "output_type": "execute_result"
    }
   ],
   "source": [
    "# Load file\n",
    "predictions = pd.read_csv('data1/Predictions_best_model', sep=',')\n",
    "predictions.head()"
   ]
  },
  {
   "cell_type": "markdown",
   "metadata": {},
   "source": [
    "<h1>7. Conclusions </h1>"
   ]
  },
  {
   "cell_type": "markdown",
   "metadata": {},
   "source": [
    "<p> Una vez concluido el trabajo se dejan algunas conclusiones claves y mejoras propuesta para el trabajo realizado en el presente archivo. Las mejoras están netamente enfocadas a generar un mejor ajuste que el logrado en el presente trabajo. Las conclusiones y mejoras propuestas son las siguientes:  </p>\n",
    "\n",
    "<li> En el análisis exploratorio vimos que las variables que mayor influencia tienen en el total de minuto son el total de productos, la distancia entre el cliente y el branch.  Me parece que dada la influencia de la distancia en el tiempo total, debería incluirse la distancia desde la posición en el que el shopper toma el pedido para poder predecir e incluir en las variables explicatovas este tiempo. </li>\n",
    "\n",
    "<li>El mejor modelo obtenido en el presente trabajo, es decir, el que mostó menores diferencias entre el tiempo predecido y el tiempo real fue la regresión lineal del segundo modelo obteniendo un MAE de 20.35. </li>\n",
    "\n",
    "<li> Se propone con más tiempo explorar otros modelos de Machine learning como SVM o redes neuronales y ver si con estos se logra obtener un MAE aún más bajo.</li>\n",
    "\n",
    "<li> Otra recomendación importante consiste en segmentar el problema y estimar los distintos tiempos por separado, esto debería ajustar mejor, es de cir, calcular el picking time, el cual estará muy correlacionado al branch, el día y la cantidad de producto. Y por otro lado calcular el delivery time, que estará. correlacionado con la distancia entre el branch y el ciente, la congestión que a su vez podría estar muy correlacionada con el día</li>\n",
    "\n",
    "\n",
    "\n"
   ]
  },
  {
   "cell_type": "code",
   "execution_count": null,
   "metadata": {},
   "outputs": [],
   "source": []
  }
 ],
 "metadata": {
  "kernelspec": {
   "display_name": "Python 3",
   "language": "python",
   "name": "python3"
  },
  "language_info": {
   "codemirror_mode": {
    "name": "ipython",
    "version": 3
   },
   "file_extension": ".py",
   "mimetype": "text/x-python",
   "name": "python",
   "nbconvert_exporter": "python",
   "pygments_lexer": "ipython3",
   "version": "3.8.3"
  }
 },
 "nbformat": 4,
 "nbformat_minor": 4
}
